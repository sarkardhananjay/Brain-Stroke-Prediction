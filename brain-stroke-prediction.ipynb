{
 "cells": [
  {
   "cell_type": "code",
   "execution_count": 1,
   "id": "388b9a4f",
   "metadata": {
    "execution": {
     "iopub.execute_input": "2022-09-09T19:50:12.291491Z",
     "iopub.status.busy": "2022-09-09T19:50:12.290724Z",
     "iopub.status.idle": "2022-09-09T19:50:13.622772Z",
     "shell.execute_reply": "2022-09-09T19:50:13.621343Z"
    },
    "papermill": {
     "duration": 1.349853,
     "end_time": "2022-09-09T19:50:13.625913",
     "exception": false,
     "start_time": "2022-09-09T19:50:12.276060",
     "status": "completed"
    },
    "tags": []
   },
   "outputs": [],
   "source": [
    "import numpy as np\n",
    "import pandas as pd\n",
    "import matplotlib.pyplot as plt\n",
    "import seaborn as sns\n",
    "from sklearn.metrics import accuracy_score\n",
    "from sklearn.metrics import confusion_matrix"
   ]
  },
  {
   "cell_type": "code",
   "execution_count": 2,
   "id": "402cd87b",
   "metadata": {
    "execution": {
     "iopub.execute_input": "2022-09-09T19:50:13.649873Z",
     "iopub.status.busy": "2022-09-09T19:50:13.649462Z",
     "iopub.status.idle": "2022-09-09T19:50:13.687549Z",
     "shell.execute_reply": "2022-09-09T19:50:13.686471Z"
    },
    "papermill": {
     "duration": 0.053274,
     "end_time": "2022-09-09T19:50:13.690516",
     "exception": false,
     "start_time": "2022-09-09T19:50:13.637242",
     "status": "completed"
    },
    "tags": []
   },
   "outputs": [],
   "source": [
    "df=pd.read_csv('../input/full-filled-brain-stroke-dataset/full_data.csv')"
   ]
  },
  {
   "cell_type": "code",
   "execution_count": 3,
   "id": "af2922c8",
   "metadata": {
    "execution": {
     "iopub.execute_input": "2022-09-09T19:50:13.714574Z",
     "iopub.status.busy": "2022-09-09T19:50:13.714087Z",
     "iopub.status.idle": "2022-09-09T19:50:13.742383Z",
     "shell.execute_reply": "2022-09-09T19:50:13.741179Z"
    },
    "papermill": {
     "duration": 0.044047,
     "end_time": "2022-09-09T19:50:13.745537",
     "exception": false,
     "start_time": "2022-09-09T19:50:13.701490",
     "status": "completed"
    },
    "tags": []
   },
   "outputs": [
    {
     "data": {
      "text/html": [
       "<div>\n",
       "<style scoped>\n",
       "    .dataframe tbody tr th:only-of-type {\n",
       "        vertical-align: middle;\n",
       "    }\n",
       "\n",
       "    .dataframe tbody tr th {\n",
       "        vertical-align: top;\n",
       "    }\n",
       "\n",
       "    .dataframe thead th {\n",
       "        text-align: right;\n",
       "    }\n",
       "</style>\n",
       "<table border=\"1\" class=\"dataframe\">\n",
       "  <thead>\n",
       "    <tr style=\"text-align: right;\">\n",
       "      <th></th>\n",
       "      <th>gender</th>\n",
       "      <th>age</th>\n",
       "      <th>hypertension</th>\n",
       "      <th>heart_disease</th>\n",
       "      <th>ever_married</th>\n",
       "      <th>work_type</th>\n",
       "      <th>Residence_type</th>\n",
       "      <th>avg_glucose_level</th>\n",
       "      <th>bmi</th>\n",
       "      <th>smoking_status</th>\n",
       "      <th>stroke</th>\n",
       "    </tr>\n",
       "  </thead>\n",
       "  <tbody>\n",
       "    <tr>\n",
       "      <th>0</th>\n",
       "      <td>Male</td>\n",
       "      <td>67.0</td>\n",
       "      <td>0</td>\n",
       "      <td>1</td>\n",
       "      <td>Yes</td>\n",
       "      <td>Private</td>\n",
       "      <td>Urban</td>\n",
       "      <td>228.69</td>\n",
       "      <td>36.6</td>\n",
       "      <td>formerly smoked</td>\n",
       "      <td>1</td>\n",
       "    </tr>\n",
       "    <tr>\n",
       "      <th>1</th>\n",
       "      <td>Male</td>\n",
       "      <td>80.0</td>\n",
       "      <td>0</td>\n",
       "      <td>1</td>\n",
       "      <td>Yes</td>\n",
       "      <td>Private</td>\n",
       "      <td>Rural</td>\n",
       "      <td>105.92</td>\n",
       "      <td>32.5</td>\n",
       "      <td>never smoked</td>\n",
       "      <td>1</td>\n",
       "    </tr>\n",
       "    <tr>\n",
       "      <th>2</th>\n",
       "      <td>Female</td>\n",
       "      <td>49.0</td>\n",
       "      <td>0</td>\n",
       "      <td>0</td>\n",
       "      <td>Yes</td>\n",
       "      <td>Private</td>\n",
       "      <td>Urban</td>\n",
       "      <td>171.23</td>\n",
       "      <td>34.4</td>\n",
       "      <td>smokes</td>\n",
       "      <td>1</td>\n",
       "    </tr>\n",
       "    <tr>\n",
       "      <th>3</th>\n",
       "      <td>Female</td>\n",
       "      <td>79.0</td>\n",
       "      <td>1</td>\n",
       "      <td>0</td>\n",
       "      <td>Yes</td>\n",
       "      <td>Self-employed</td>\n",
       "      <td>Rural</td>\n",
       "      <td>174.12</td>\n",
       "      <td>24.0</td>\n",
       "      <td>never smoked</td>\n",
       "      <td>1</td>\n",
       "    </tr>\n",
       "    <tr>\n",
       "      <th>4</th>\n",
       "      <td>Male</td>\n",
       "      <td>81.0</td>\n",
       "      <td>0</td>\n",
       "      <td>0</td>\n",
       "      <td>Yes</td>\n",
       "      <td>Private</td>\n",
       "      <td>Urban</td>\n",
       "      <td>186.21</td>\n",
       "      <td>29.0</td>\n",
       "      <td>formerly smoked</td>\n",
       "      <td>1</td>\n",
       "    </tr>\n",
       "    <tr>\n",
       "      <th>5</th>\n",
       "      <td>Male</td>\n",
       "      <td>74.0</td>\n",
       "      <td>1</td>\n",
       "      <td>1</td>\n",
       "      <td>Yes</td>\n",
       "      <td>Private</td>\n",
       "      <td>Rural</td>\n",
       "      <td>70.09</td>\n",
       "      <td>27.4</td>\n",
       "      <td>never smoked</td>\n",
       "      <td>1</td>\n",
       "    </tr>\n",
       "    <tr>\n",
       "      <th>6</th>\n",
       "      <td>Female</td>\n",
       "      <td>69.0</td>\n",
       "      <td>0</td>\n",
       "      <td>0</td>\n",
       "      <td>No</td>\n",
       "      <td>Private</td>\n",
       "      <td>Urban</td>\n",
       "      <td>94.39</td>\n",
       "      <td>22.8</td>\n",
       "      <td>never smoked</td>\n",
       "      <td>1</td>\n",
       "    </tr>\n",
       "    <tr>\n",
       "      <th>7</th>\n",
       "      <td>Female</td>\n",
       "      <td>78.0</td>\n",
       "      <td>0</td>\n",
       "      <td>0</td>\n",
       "      <td>Yes</td>\n",
       "      <td>Private</td>\n",
       "      <td>Urban</td>\n",
       "      <td>58.57</td>\n",
       "      <td>24.2</td>\n",
       "      <td>Unknown</td>\n",
       "      <td>1</td>\n",
       "    </tr>\n",
       "    <tr>\n",
       "      <th>8</th>\n",
       "      <td>Female</td>\n",
       "      <td>81.0</td>\n",
       "      <td>1</td>\n",
       "      <td>0</td>\n",
       "      <td>Yes</td>\n",
       "      <td>Private</td>\n",
       "      <td>Rural</td>\n",
       "      <td>80.43</td>\n",
       "      <td>29.7</td>\n",
       "      <td>never smoked</td>\n",
       "      <td>1</td>\n",
       "    </tr>\n",
       "    <tr>\n",
       "      <th>9</th>\n",
       "      <td>Female</td>\n",
       "      <td>61.0</td>\n",
       "      <td>0</td>\n",
       "      <td>1</td>\n",
       "      <td>Yes</td>\n",
       "      <td>Govt_job</td>\n",
       "      <td>Rural</td>\n",
       "      <td>120.46</td>\n",
       "      <td>36.8</td>\n",
       "      <td>smokes</td>\n",
       "      <td>1</td>\n",
       "    </tr>\n",
       "  </tbody>\n",
       "</table>\n",
       "</div>"
      ],
      "text/plain": [
       "   gender   age  hypertension  heart_disease ever_married      work_type  \\\n",
       "0    Male  67.0             0              1          Yes        Private   \n",
       "1    Male  80.0             0              1          Yes        Private   \n",
       "2  Female  49.0             0              0          Yes        Private   \n",
       "3  Female  79.0             1              0          Yes  Self-employed   \n",
       "4    Male  81.0             0              0          Yes        Private   \n",
       "5    Male  74.0             1              1          Yes        Private   \n",
       "6  Female  69.0             0              0           No        Private   \n",
       "7  Female  78.0             0              0          Yes        Private   \n",
       "8  Female  81.0             1              0          Yes        Private   \n",
       "9  Female  61.0             0              1          Yes       Govt_job   \n",
       "\n",
       "  Residence_type  avg_glucose_level   bmi   smoking_status  stroke  \n",
       "0          Urban             228.69  36.6  formerly smoked       1  \n",
       "1          Rural             105.92  32.5     never smoked       1  \n",
       "2          Urban             171.23  34.4           smokes       1  \n",
       "3          Rural             174.12  24.0     never smoked       1  \n",
       "4          Urban             186.21  29.0  formerly smoked       1  \n",
       "5          Rural              70.09  27.4     never smoked       1  \n",
       "6          Urban              94.39  22.8     never smoked       1  \n",
       "7          Urban              58.57  24.2          Unknown       1  \n",
       "8          Rural              80.43  29.7     never smoked       1  \n",
       "9          Rural             120.46  36.8           smokes       1  "
      ]
     },
     "execution_count": 3,
     "metadata": {},
     "output_type": "execute_result"
    }
   ],
   "source": [
    "df.head(10)"
   ]
  },
  {
   "cell_type": "code",
   "execution_count": 4,
   "id": "a5023f4e",
   "metadata": {
    "execution": {
     "iopub.execute_input": "2022-09-09T19:50:13.772200Z",
     "iopub.status.busy": "2022-09-09T19:50:13.770930Z",
     "iopub.status.idle": "2022-09-09T19:50:13.779788Z",
     "shell.execute_reply": "2022-09-09T19:50:13.778847Z"
    },
    "papermill": {
     "duration": 0.023478,
     "end_time": "2022-09-09T19:50:13.781934",
     "exception": false,
     "start_time": "2022-09-09T19:50:13.758456",
     "status": "completed"
    },
    "tags": []
   },
   "outputs": [
    {
     "data": {
      "text/plain": [
       "(4981, 11)"
      ]
     },
     "execution_count": 4,
     "metadata": {},
     "output_type": "execute_result"
    }
   ],
   "source": [
    "df.shape"
   ]
  },
  {
   "cell_type": "code",
   "execution_count": 5,
   "id": "a998daf2",
   "metadata": {
    "execution": {
     "iopub.execute_input": "2022-09-09T19:50:13.806630Z",
     "iopub.status.busy": "2022-09-09T19:50:13.806065Z",
     "iopub.status.idle": "2022-09-09T19:50:13.817838Z",
     "shell.execute_reply": "2022-09-09T19:50:13.816625Z"
    },
    "papermill": {
     "duration": 0.027011,
     "end_time": "2022-09-09T19:50:13.820231",
     "exception": false,
     "start_time": "2022-09-09T19:50:13.793220",
     "status": "completed"
    },
    "tags": []
   },
   "outputs": [
    {
     "data": {
      "text/plain": [
       "gender               0\n",
       "age                  0\n",
       "hypertension         0\n",
       "heart_disease        0\n",
       "ever_married         0\n",
       "work_type            0\n",
       "Residence_type       0\n",
       "avg_glucose_level    0\n",
       "bmi                  0\n",
       "smoking_status       0\n",
       "stroke               0\n",
       "dtype: int64"
      ]
     },
     "execution_count": 5,
     "metadata": {},
     "output_type": "execute_result"
    }
   ],
   "source": [
    "df.isnull().sum()"
   ]
  },
  {
   "cell_type": "code",
   "execution_count": 6,
   "id": "eb270b19",
   "metadata": {
    "execution": {
     "iopub.execute_input": "2022-09-09T19:50:13.845449Z",
     "iopub.status.busy": "2022-09-09T19:50:13.844633Z",
     "iopub.status.idle": "2022-09-09T19:50:13.871349Z",
     "shell.execute_reply": "2022-09-09T19:50:13.870044Z"
    },
    "papermill": {
     "duration": 0.042523,
     "end_time": "2022-09-09T19:50:13.874062",
     "exception": false,
     "start_time": "2022-09-09T19:50:13.831539",
     "status": "completed"
    },
    "tags": []
   },
   "outputs": [
    {
     "name": "stdout",
     "output_type": "stream",
     "text": [
      "<class 'pandas.core.frame.DataFrame'>\n",
      "RangeIndex: 4981 entries, 0 to 4980\n",
      "Data columns (total 11 columns):\n",
      " #   Column             Non-Null Count  Dtype  \n",
      "---  ------             --------------  -----  \n",
      " 0   gender             4981 non-null   object \n",
      " 1   age                4981 non-null   float64\n",
      " 2   hypertension       4981 non-null   int64  \n",
      " 3   heart_disease      4981 non-null   int64  \n",
      " 4   ever_married       4981 non-null   object \n",
      " 5   work_type          4981 non-null   object \n",
      " 6   Residence_type     4981 non-null   object \n",
      " 7   avg_glucose_level  4981 non-null   float64\n",
      " 8   bmi                4981 non-null   float64\n",
      " 9   smoking_status     4981 non-null   object \n",
      " 10  stroke             4981 non-null   int64  \n",
      "dtypes: float64(3), int64(3), object(5)\n",
      "memory usage: 428.2+ KB\n"
     ]
    }
   ],
   "source": [
    "df.info()"
   ]
  },
  {
   "cell_type": "code",
   "execution_count": 7,
   "id": "69d83de3",
   "metadata": {
    "execution": {
     "iopub.execute_input": "2022-09-09T19:50:13.898974Z",
     "iopub.status.busy": "2022-09-09T19:50:13.898587Z",
     "iopub.status.idle": "2022-09-09T19:50:13.904866Z",
     "shell.execute_reply": "2022-09-09T19:50:13.903809Z"
    },
    "papermill": {
     "duration": 0.021666,
     "end_time": "2022-09-09T19:50:13.907287",
     "exception": false,
     "start_time": "2022-09-09T19:50:13.885621",
     "status": "completed"
    },
    "tags": []
   },
   "outputs": [],
   "source": [
    "df_cate = df[['gender', 'ever_married', 'work_type', 'Residence_type', 'smoking_status']]"
   ]
  },
  {
   "cell_type": "code",
   "execution_count": 8,
   "id": "3e0f1f9b",
   "metadata": {
    "execution": {
     "iopub.execute_input": "2022-09-09T19:50:13.932457Z",
     "iopub.status.busy": "2022-09-09T19:50:13.932025Z",
     "iopub.status.idle": "2022-09-09T19:50:13.941867Z",
     "shell.execute_reply": "2022-09-09T19:50:13.940361Z"
    },
    "papermill": {
     "duration": 0.026732,
     "end_time": "2022-09-09T19:50:13.945470",
     "exception": false,
     "start_time": "2022-09-09T19:50:13.918738",
     "status": "completed"
    },
    "tags": []
   },
   "outputs": [
    {
     "name": "stdout",
     "output_type": "stream",
     "text": [
      "['Male' 'Female']\n",
      "['Yes' 'No']\n",
      "['Private' 'Self-employed' 'Govt_job' 'children']\n",
      "['Urban' 'Rural']\n",
      "['formerly smoked' 'never smoked' 'smokes' 'Unknown']\n"
     ]
    }
   ],
   "source": [
    "for i in df_cate.columns:\n",
    "    print(df_cate[i].unique())"
   ]
  },
  {
   "cell_type": "code",
   "execution_count": 9,
   "id": "d8495927",
   "metadata": {
    "execution": {
     "iopub.execute_input": "2022-09-09T19:50:13.971455Z",
     "iopub.status.busy": "2022-09-09T19:50:13.970707Z",
     "iopub.status.idle": "2022-09-09T19:50:13.987978Z",
     "shell.execute_reply": "2022-09-09T19:50:13.986723Z"
    },
    "papermill": {
     "duration": 0.033155,
     "end_time": "2022-09-09T19:50:13.990740",
     "exception": false,
     "start_time": "2022-09-09T19:50:13.957585",
     "status": "completed"
    },
    "tags": []
   },
   "outputs": [],
   "source": [
    "df['gender'].replace(['Male', 'Female'], [1, 0], inplace=True)\n",
    "df['ever_married'].replace(['Yes', 'No'], [1, 0], inplace=True)\n",
    "df['Residence_type'].replace(['Urban', 'Rural'], [1, 0], inplace=True)"
   ]
  },
  {
   "cell_type": "code",
   "execution_count": 10,
   "id": "97da0a1d",
   "metadata": {
    "execution": {
     "iopub.execute_input": "2022-09-09T19:50:14.016638Z",
     "iopub.status.busy": "2022-09-09T19:50:14.016185Z",
     "iopub.status.idle": "2022-09-09T19:50:14.033304Z",
     "shell.execute_reply": "2022-09-09T19:50:14.032276Z"
    },
    "papermill": {
     "duration": 0.032636,
     "end_time": "2022-09-09T19:50:14.035561",
     "exception": false,
     "start_time": "2022-09-09T19:50:14.002925",
     "status": "completed"
    },
    "tags": []
   },
   "outputs": [
    {
     "data": {
      "text/html": [
       "<div>\n",
       "<style scoped>\n",
       "    .dataframe tbody tr th:only-of-type {\n",
       "        vertical-align: middle;\n",
       "    }\n",
       "\n",
       "    .dataframe tbody tr th {\n",
       "        vertical-align: top;\n",
       "    }\n",
       "\n",
       "    .dataframe thead th {\n",
       "        text-align: right;\n",
       "    }\n",
       "</style>\n",
       "<table border=\"1\" class=\"dataframe\">\n",
       "  <thead>\n",
       "    <tr style=\"text-align: right;\">\n",
       "      <th></th>\n",
       "      <th>gender</th>\n",
       "      <th>age</th>\n",
       "      <th>hypertension</th>\n",
       "      <th>heart_disease</th>\n",
       "      <th>ever_married</th>\n",
       "      <th>work_type</th>\n",
       "      <th>Residence_type</th>\n",
       "      <th>avg_glucose_level</th>\n",
       "      <th>bmi</th>\n",
       "      <th>smoking_status</th>\n",
       "      <th>stroke</th>\n",
       "    </tr>\n",
       "  </thead>\n",
       "  <tbody>\n",
       "    <tr>\n",
       "      <th>0</th>\n",
       "      <td>1</td>\n",
       "      <td>67.0</td>\n",
       "      <td>0</td>\n",
       "      <td>1</td>\n",
       "      <td>1</td>\n",
       "      <td>Private</td>\n",
       "      <td>1</td>\n",
       "      <td>228.69</td>\n",
       "      <td>36.6</td>\n",
       "      <td>formerly smoked</td>\n",
       "      <td>1</td>\n",
       "    </tr>\n",
       "    <tr>\n",
       "      <th>1</th>\n",
       "      <td>1</td>\n",
       "      <td>80.0</td>\n",
       "      <td>0</td>\n",
       "      <td>1</td>\n",
       "      <td>1</td>\n",
       "      <td>Private</td>\n",
       "      <td>0</td>\n",
       "      <td>105.92</td>\n",
       "      <td>32.5</td>\n",
       "      <td>never smoked</td>\n",
       "      <td>1</td>\n",
       "    </tr>\n",
       "    <tr>\n",
       "      <th>2</th>\n",
       "      <td>0</td>\n",
       "      <td>49.0</td>\n",
       "      <td>0</td>\n",
       "      <td>0</td>\n",
       "      <td>1</td>\n",
       "      <td>Private</td>\n",
       "      <td>1</td>\n",
       "      <td>171.23</td>\n",
       "      <td>34.4</td>\n",
       "      <td>smokes</td>\n",
       "      <td>1</td>\n",
       "    </tr>\n",
       "    <tr>\n",
       "      <th>3</th>\n",
       "      <td>0</td>\n",
       "      <td>79.0</td>\n",
       "      <td>1</td>\n",
       "      <td>0</td>\n",
       "      <td>1</td>\n",
       "      <td>Self-employed</td>\n",
       "      <td>0</td>\n",
       "      <td>174.12</td>\n",
       "      <td>24.0</td>\n",
       "      <td>never smoked</td>\n",
       "      <td>1</td>\n",
       "    </tr>\n",
       "    <tr>\n",
       "      <th>4</th>\n",
       "      <td>1</td>\n",
       "      <td>81.0</td>\n",
       "      <td>0</td>\n",
       "      <td>0</td>\n",
       "      <td>1</td>\n",
       "      <td>Private</td>\n",
       "      <td>1</td>\n",
       "      <td>186.21</td>\n",
       "      <td>29.0</td>\n",
       "      <td>formerly smoked</td>\n",
       "      <td>1</td>\n",
       "    </tr>\n",
       "  </tbody>\n",
       "</table>\n",
       "</div>"
      ],
      "text/plain": [
       "   gender   age  hypertension  heart_disease  ever_married      work_type  \\\n",
       "0       1  67.0             0              1             1        Private   \n",
       "1       1  80.0             0              1             1        Private   \n",
       "2       0  49.0             0              0             1        Private   \n",
       "3       0  79.0             1              0             1  Self-employed   \n",
       "4       1  81.0             0              0             1        Private   \n",
       "\n",
       "   Residence_type  avg_glucose_level   bmi   smoking_status  stroke  \n",
       "0               1             228.69  36.6  formerly smoked       1  \n",
       "1               0             105.92  32.5     never smoked       1  \n",
       "2               1             171.23  34.4           smokes       1  \n",
       "3               0             174.12  24.0     never smoked       1  \n",
       "4               1             186.21  29.0  formerly smoked       1  "
      ]
     },
     "execution_count": 10,
     "metadata": {},
     "output_type": "execute_result"
    }
   ],
   "source": [
    "df.head()"
   ]
  },
  {
   "cell_type": "code",
   "execution_count": 11,
   "id": "a703e6dd",
   "metadata": {
    "execution": {
     "iopub.execute_input": "2022-09-09T19:50:14.062025Z",
     "iopub.status.busy": "2022-09-09T19:50:14.061589Z",
     "iopub.status.idle": "2022-09-09T19:50:14.089406Z",
     "shell.execute_reply": "2022-09-09T19:50:14.088057Z"
    },
    "papermill": {
     "duration": 0.043987,
     "end_time": "2022-09-09T19:50:14.092055",
     "exception": false,
     "start_time": "2022-09-09T19:50:14.048068",
     "status": "completed"
    },
    "tags": []
   },
   "outputs": [
    {
     "data": {
      "text/html": [
       "<div>\n",
       "<style scoped>\n",
       "    .dataframe tbody tr th:only-of-type {\n",
       "        vertical-align: middle;\n",
       "    }\n",
       "\n",
       "    .dataframe tbody tr th {\n",
       "        vertical-align: top;\n",
       "    }\n",
       "\n",
       "    .dataframe thead th {\n",
       "        text-align: right;\n",
       "    }\n",
       "</style>\n",
       "<table border=\"1\" class=\"dataframe\">\n",
       "  <thead>\n",
       "    <tr style=\"text-align: right;\">\n",
       "      <th></th>\n",
       "      <th>gender</th>\n",
       "      <th>age</th>\n",
       "      <th>hypertension</th>\n",
       "      <th>heart_disease</th>\n",
       "      <th>ever_married</th>\n",
       "      <th>Residence_type</th>\n",
       "      <th>avg_glucose_level</th>\n",
       "      <th>bmi</th>\n",
       "      <th>stroke</th>\n",
       "      <th>work_type_Govt_job</th>\n",
       "      <th>work_type_Private</th>\n",
       "      <th>work_type_Self-employed</th>\n",
       "      <th>work_type_children</th>\n",
       "      <th>smoking_status_Unknown</th>\n",
       "      <th>smoking_status_formerly smoked</th>\n",
       "      <th>smoking_status_never smoked</th>\n",
       "      <th>smoking_status_smokes</th>\n",
       "    </tr>\n",
       "  </thead>\n",
       "  <tbody>\n",
       "    <tr>\n",
       "      <th>0</th>\n",
       "      <td>1</td>\n",
       "      <td>67.0</td>\n",
       "      <td>0</td>\n",
       "      <td>1</td>\n",
       "      <td>1</td>\n",
       "      <td>1</td>\n",
       "      <td>228.69</td>\n",
       "      <td>36.6</td>\n",
       "      <td>1</td>\n",
       "      <td>0</td>\n",
       "      <td>1</td>\n",
       "      <td>0</td>\n",
       "      <td>0</td>\n",
       "      <td>0</td>\n",
       "      <td>1</td>\n",
       "      <td>0</td>\n",
       "      <td>0</td>\n",
       "    </tr>\n",
       "    <tr>\n",
       "      <th>1</th>\n",
       "      <td>1</td>\n",
       "      <td>80.0</td>\n",
       "      <td>0</td>\n",
       "      <td>1</td>\n",
       "      <td>1</td>\n",
       "      <td>0</td>\n",
       "      <td>105.92</td>\n",
       "      <td>32.5</td>\n",
       "      <td>1</td>\n",
       "      <td>0</td>\n",
       "      <td>1</td>\n",
       "      <td>0</td>\n",
       "      <td>0</td>\n",
       "      <td>0</td>\n",
       "      <td>0</td>\n",
       "      <td>1</td>\n",
       "      <td>0</td>\n",
       "    </tr>\n",
       "    <tr>\n",
       "      <th>2</th>\n",
       "      <td>0</td>\n",
       "      <td>49.0</td>\n",
       "      <td>0</td>\n",
       "      <td>0</td>\n",
       "      <td>1</td>\n",
       "      <td>1</td>\n",
       "      <td>171.23</td>\n",
       "      <td>34.4</td>\n",
       "      <td>1</td>\n",
       "      <td>0</td>\n",
       "      <td>1</td>\n",
       "      <td>0</td>\n",
       "      <td>0</td>\n",
       "      <td>0</td>\n",
       "      <td>0</td>\n",
       "      <td>0</td>\n",
       "      <td>1</td>\n",
       "    </tr>\n",
       "    <tr>\n",
       "      <th>3</th>\n",
       "      <td>0</td>\n",
       "      <td>79.0</td>\n",
       "      <td>1</td>\n",
       "      <td>0</td>\n",
       "      <td>1</td>\n",
       "      <td>0</td>\n",
       "      <td>174.12</td>\n",
       "      <td>24.0</td>\n",
       "      <td>1</td>\n",
       "      <td>0</td>\n",
       "      <td>0</td>\n",
       "      <td>1</td>\n",
       "      <td>0</td>\n",
       "      <td>0</td>\n",
       "      <td>0</td>\n",
       "      <td>1</td>\n",
       "      <td>0</td>\n",
       "    </tr>\n",
       "    <tr>\n",
       "      <th>4</th>\n",
       "      <td>1</td>\n",
       "      <td>81.0</td>\n",
       "      <td>0</td>\n",
       "      <td>0</td>\n",
       "      <td>1</td>\n",
       "      <td>1</td>\n",
       "      <td>186.21</td>\n",
       "      <td>29.0</td>\n",
       "      <td>1</td>\n",
       "      <td>0</td>\n",
       "      <td>1</td>\n",
       "      <td>0</td>\n",
       "      <td>0</td>\n",
       "      <td>0</td>\n",
       "      <td>1</td>\n",
       "      <td>0</td>\n",
       "      <td>0</td>\n",
       "    </tr>\n",
       "  </tbody>\n",
       "</table>\n",
       "</div>"
      ],
      "text/plain": [
       "   gender   age  hypertension  heart_disease  ever_married  Residence_type  \\\n",
       "0       1  67.0             0              1             1               1   \n",
       "1       1  80.0             0              1             1               0   \n",
       "2       0  49.0             0              0             1               1   \n",
       "3       0  79.0             1              0             1               0   \n",
       "4       1  81.0             0              0             1               1   \n",
       "\n",
       "   avg_glucose_level   bmi  stroke  work_type_Govt_job  work_type_Private  \\\n",
       "0             228.69  36.6       1                   0                  1   \n",
       "1             105.92  32.5       1                   0                  1   \n",
       "2             171.23  34.4       1                   0                  1   \n",
       "3             174.12  24.0       1                   0                  0   \n",
       "4             186.21  29.0       1                   0                  1   \n",
       "\n",
       "   work_type_Self-employed  work_type_children  smoking_status_Unknown  \\\n",
       "0                        0                   0                       0   \n",
       "1                        0                   0                       0   \n",
       "2                        0                   0                       0   \n",
       "3                        1                   0                       0   \n",
       "4                        0                   0                       0   \n",
       "\n",
       "   smoking_status_formerly smoked  smoking_status_never smoked  \\\n",
       "0                               1                            0   \n",
       "1                               0                            1   \n",
       "2                               0                            0   \n",
       "3                               0                            1   \n",
       "4                               1                            0   \n",
       "\n",
       "   smoking_status_smokes  \n",
       "0                      0  \n",
       "1                      0  \n",
       "2                      1  \n",
       "3                      0  \n",
       "4                      0  "
      ]
     },
     "execution_count": 11,
     "metadata": {},
     "output_type": "execute_result"
    }
   ],
   "source": [
    "data=pd.get_dummies(df, columns=['work_type', 'smoking_status'])\n",
    "data.head()"
   ]
  },
  {
   "cell_type": "code",
   "execution_count": 12,
   "id": "f520e084",
   "metadata": {
    "execution": {
     "iopub.execute_input": "2022-09-09T19:50:14.118873Z",
     "iopub.status.busy": "2022-09-09T19:50:14.118151Z",
     "iopub.status.idle": "2022-09-09T19:50:14.124066Z",
     "shell.execute_reply": "2022-09-09T19:50:14.123204Z"
    },
    "papermill": {
     "duration": 0.021803,
     "end_time": "2022-09-09T19:50:14.126258",
     "exception": false,
     "start_time": "2022-09-09T19:50:14.104455",
     "status": "completed"
    },
    "tags": []
   },
   "outputs": [
    {
     "data": {
      "text/plain": [
       "(4981, 17)"
      ]
     },
     "execution_count": 12,
     "metadata": {},
     "output_type": "execute_result"
    }
   ],
   "source": [
    "data.shape"
   ]
  },
  {
   "cell_type": "code",
   "execution_count": 13,
   "id": "2e8eb785",
   "metadata": {
    "execution": {
     "iopub.execute_input": "2022-09-09T19:50:14.153710Z",
     "iopub.status.busy": "2022-09-09T19:50:14.152757Z",
     "iopub.status.idle": "2022-09-09T19:50:14.178002Z",
     "shell.execute_reply": "2022-09-09T19:50:14.176914Z"
    },
    "papermill": {
     "duration": 0.041674,
     "end_time": "2022-09-09T19:50:14.180661",
     "exception": false,
     "start_time": "2022-09-09T19:50:14.138987",
     "status": "completed"
    },
    "tags": []
   },
   "outputs": [
    {
     "name": "stdout",
     "output_type": "stream",
     "text": [
      "(4981, 16)\n",
      "(4981,)\n"
     ]
    }
   ],
   "source": [
    "from sklearn.model_selection import train_test_split\n",
    "X=data.drop(columns=['stroke'])\n",
    "Y=data['stroke']\n",
    "print(X.shape)\n",
    "print(Y.shape)"
   ]
  },
  {
   "cell_type": "code",
   "execution_count": 14,
   "id": "447b08ef",
   "metadata": {
    "execution": {
     "iopub.execute_input": "2022-09-09T19:50:14.207741Z",
     "iopub.status.busy": "2022-09-09T19:50:14.207285Z",
     "iopub.status.idle": "2022-09-09T19:50:14.216983Z",
     "shell.execute_reply": "2022-09-09T19:50:14.215700Z"
    },
    "papermill": {
     "duration": 0.026094,
     "end_time": "2022-09-09T19:50:14.219439",
     "exception": false,
     "start_time": "2022-09-09T19:50:14.193345",
     "status": "completed"
    },
    "tags": []
   },
   "outputs": [
    {
     "data": {
      "text/plain": [
       "0    0.950211\n",
       "1    0.049789\n",
       "Name: stroke, dtype: float64"
      ]
     },
     "execution_count": 14,
     "metadata": {},
     "output_type": "execute_result"
    }
   ],
   "source": [
    "Y.value_counts(normalize=True)  # This is imbalanced dataset"
   ]
  },
  {
   "cell_type": "code",
   "execution_count": 15,
   "id": "3920240f",
   "metadata": {
    "execution": {
     "iopub.execute_input": "2022-09-09T19:50:14.246462Z",
     "iopub.status.busy": "2022-09-09T19:50:14.245441Z",
     "iopub.status.idle": "2022-09-09T19:50:14.408848Z",
     "shell.execute_reply": "2022-09-09T19:50:14.407852Z"
    },
    "papermill": {
     "duration": 0.179666,
     "end_time": "2022-09-09T19:50:14.411454",
     "exception": false,
     "start_time": "2022-09-09T19:50:14.231788",
     "status": "completed"
    },
    "tags": []
   },
   "outputs": [
    {
     "data": {
      "text/plain": [
       "<AxesSubplot:>"
      ]
     },
     "execution_count": 15,
     "metadata": {},
     "output_type": "execute_result"
    },
    {
     "data": {
      "image/png": "[encoded data removed]",
      "text/plain": [
       "<Figure size 432x288 with 1 Axes>"
      ]
     },
     "metadata": {
      "needs_background": "light"
     },
     "output_type": "display_data"
    }
   ],
   "source": [
    "Y.value_counts().plot(kind='bar')"
   ]
  },
  {
   "cell_type": "code",
   "execution_count": 16,
   "id": "e7317c8c",
   "metadata": {
    "execution": {
     "iopub.execute_input": "2022-09-09T19:50:14.440163Z",
     "iopub.status.busy": "2022-09-09T19:50:14.439330Z",
     "iopub.status.idle": "2022-09-09T19:50:14.449775Z",
     "shell.execute_reply": "2022-09-09T19:50:14.448219Z"
    },
    "papermill": {
     "duration": 0.028062,
     "end_time": "2022-09-09T19:50:14.452384",
     "exception": false,
     "start_time": "2022-09-09T19:50:14.424322",
     "status": "completed"
    },
    "tags": []
   },
   "outputs": [
    {
     "name": "stdout",
     "output_type": "stream",
     "text": [
      "(3984, 16)\n",
      "(997, 16)\n"
     ]
    }
   ],
   "source": [
    "X_train, X_test, Y_train, Y_test = train_test_split(X, Y, test_size=0.2, random_state=0)\n",
    "print(X_train.shape)\n",
    "print(X_test.shape)"
   ]
  },
  {
   "cell_type": "code",
   "execution_count": 17,
   "id": "f14e7e55",
   "metadata": {
    "execution": {
     "iopub.execute_input": "2022-09-09T19:50:14.480623Z",
     "iopub.status.busy": "2022-09-09T19:50:14.479494Z",
     "iopub.status.idle": "2022-09-09T19:50:14.488075Z",
     "shell.execute_reply": "2022-09-09T19:50:14.486882Z"
    },
    "papermill": {
     "duration": 0.024897,
     "end_time": "2022-09-09T19:50:14.490426",
     "exception": false,
     "start_time": "2022-09-09T19:50:14.465529",
     "status": "completed"
    },
    "tags": []
   },
   "outputs": [
    {
     "data": {
      "text/plain": [
       "0    3786\n",
       "1     198\n",
       "Name: stroke, dtype: int64"
      ]
     },
     "execution_count": 17,
     "metadata": {},
     "output_type": "execute_result"
    }
   ],
   "source": [
    "Y_train.value_counts()"
   ]
  },
  {
   "cell_type": "code",
   "execution_count": 18,
   "id": "bfaa092e",
   "metadata": {
    "execution": {
     "iopub.execute_input": "2022-09-09T19:50:14.519206Z",
     "iopub.status.busy": "2022-09-09T19:50:14.518750Z",
     "iopub.status.idle": "2022-09-09T19:50:14.526910Z",
     "shell.execute_reply": "2022-09-09T19:50:14.525951Z"
    },
    "papermill": {
     "duration": 0.025136,
     "end_time": "2022-09-09T19:50:14.529094",
     "exception": false,
     "start_time": "2022-09-09T19:50:14.503958",
     "status": "completed"
    },
    "tags": []
   },
   "outputs": [
    {
     "data": {
      "text/plain": [
       "0    947\n",
       "1     50\n",
       "Name: stroke, dtype: int64"
      ]
     },
     "execution_count": 18,
     "metadata": {},
     "output_type": "execute_result"
    }
   ],
   "source": [
    "Y_test.value_counts()"
   ]
  },
  {
   "cell_type": "code",
   "execution_count": 19,
   "id": "8195a70f",
   "metadata": {
    "execution": {
     "iopub.execute_input": "2022-09-09T19:50:14.557399Z",
     "iopub.status.busy": "2022-09-09T19:50:14.556637Z",
     "iopub.status.idle": "2022-09-09T19:50:14.743868Z",
     "shell.execute_reply": "2022-09-09T19:50:14.742557Z"
    },
    "papermill": {
     "duration": 0.208563,
     "end_time": "2022-09-09T19:50:14.750676",
     "exception": false,
     "start_time": "2022-09-09T19:50:14.542113",
     "status": "completed"
    },
    "tags": []
   },
   "outputs": [
    {
     "name": "stderr",
     "output_type": "stream",
     "text": [
      "/opt/conda/lib/python3.7/site-packages/sklearn/linear_model/_logistic.py:818: ConvergenceWarning: lbfgs failed to converge (status=1):\n",
      "STOP: TOTAL NO. of ITERATIONS REACHED LIMIT.\n",
      "\n",
      "Increase the number of iterations (max_iter) or scale the data as shown in:\n",
      "    https://scikit-learn.org/stable/modules/preprocessing.html\n",
      "Please also refer to the documentation for alternative solver options:\n",
      "    https://scikit-learn.org/stable/modules/linear_model.html#logistic-regression\n",
      "  extra_warning_msg=_LOGISTIC_SOLVER_CONVERGENCE_MSG,\n"
     ]
    },
    {
     "data": {
      "text/plain": [
       "LogisticRegression()"
      ]
     },
     "execution_count": 19,
     "metadata": {},
     "output_type": "execute_result"
    }
   ],
   "source": [
    "from sklearn.linear_model import LogisticRegression\n",
    "model1=LogisticRegression()\n",
    "model1.fit(X_train, Y_train)\n"
   ]
  },
  {
   "cell_type": "code",
   "execution_count": 20,
   "id": "410d6734",
   "metadata": {
    "execution": {
     "iopub.execute_input": "2022-09-09T19:50:14.795466Z",
     "iopub.status.busy": "2022-09-09T19:50:14.794834Z",
     "iopub.status.idle": "2022-09-09T19:50:14.815928Z",
     "shell.execute_reply": "2022-09-09T19:50:14.814609Z"
    },
    "papermill": {
     "duration": 0.047947,
     "end_time": "2022-09-09T19:50:14.819901",
     "exception": false,
     "start_time": "2022-09-09T19:50:14.771954",
     "status": "completed"
    },
    "tags": []
   },
   "outputs": [
    {
     "data": {
      "text/plain": [
       "0.9505522088353414"
      ]
     },
     "execution_count": 20,
     "metadata": {},
     "output_type": "execute_result"
    }
   ],
   "source": [
    "y_train_pred=model1.predict(X_train)\n",
    "train_accuracy=accuracy_score(Y_train,y_train_pred)\n",
    "train_accuracy"
   ]
  },
  {
   "cell_type": "code",
   "execution_count": 21,
   "id": "0cfec3e1",
   "metadata": {
    "execution": {
     "iopub.execute_input": "2022-09-09T19:50:14.865029Z",
     "iopub.status.busy": "2022-09-09T19:50:14.864476Z",
     "iopub.status.idle": "2022-09-09T19:50:14.881434Z",
     "shell.execute_reply": "2022-09-09T19:50:14.879942Z"
    },
    "papermill": {
     "duration": 0.043722,
     "end_time": "2022-09-09T19:50:14.885421",
     "exception": false,
     "start_time": "2022-09-09T19:50:14.841699",
     "status": "completed"
    },
    "tags": []
   },
   "outputs": [
    {
     "data": {
      "text/plain": [
       "array([[3786,    0],\n",
       "       [ 197,    1]])"
      ]
     },
     "execution_count": 21,
     "metadata": {},
     "output_type": "execute_result"
    }
   ],
   "source": [
    "confusion_matrix(Y_train, y_train_pred)"
   ]
  },
  {
   "cell_type": "markdown",
   "id": "d17b4ff6",
   "metadata": {
    "papermill": {
     "duration": 0.021081,
     "end_time": "2022-09-09T19:50:14.927801",
     "exception": false,
     "start_time": "2022-09-09T19:50:14.906720",
     "status": "completed"
    },
    "tags": []
   },
   "source": [
    "True Positive Rate 100% but True Negative rate is 0.5% very low. Our interest on the minority class so the accuracy_score is not a good metric for the imbalanced data set."
   ]
  },
  {
   "cell_type": "code",
   "execution_count": 22,
   "id": "2bd3b563",
   "metadata": {
    "execution": {
     "iopub.execute_input": "2022-09-09T19:50:14.956227Z",
     "iopub.status.busy": "2022-09-09T19:50:14.955771Z",
     "iopub.status.idle": "2022-09-09T19:50:14.968232Z",
     "shell.execute_reply": "2022-09-09T19:50:14.966839Z"
    },
    "papermill": {
     "duration": 0.030345,
     "end_time": "2022-09-09T19:50:14.971585",
     "exception": false,
     "start_time": "2022-09-09T19:50:14.941240",
     "status": "completed"
    },
    "tags": []
   },
   "outputs": [
    {
     "data": {
      "text/plain": [
       "0.9498495486459378"
      ]
     },
     "execution_count": 22,
     "metadata": {},
     "output_type": "execute_result"
    }
   ],
   "source": [
    "y_test_pred=model1.predict(X_test)\n",
    "test_accuracy=accuracy_score(Y_test, y_test_pred)\n",
    "test_accuracy"
   ]
  },
  {
   "cell_type": "code",
   "execution_count": 23,
   "id": "49d941fc",
   "metadata": {
    "execution": {
     "iopub.execute_input": "2022-09-09T19:50:15.016607Z",
     "iopub.status.busy": "2022-09-09T19:50:15.016043Z",
     "iopub.status.idle": "2022-09-09T19:50:15.025869Z",
     "shell.execute_reply": "2022-09-09T19:50:15.024691Z"
    },
    "papermill": {
     "duration": 0.035854,
     "end_time": "2022-09-09T19:50:15.029108",
     "exception": false,
     "start_time": "2022-09-09T19:50:14.993254",
     "status": "completed"
    },
    "tags": []
   },
   "outputs": [
    {
     "data": {
      "text/plain": [
       "array([[947,   0],\n",
       "       [ 50,   0]])"
      ]
     },
     "execution_count": 23,
     "metadata": {},
     "output_type": "execute_result"
    }
   ],
   "source": [
    "confusion_matrix(Y_test, y_test_pred)"
   ]
  },
  {
   "cell_type": "code",
   "execution_count": 24,
   "id": "be580ec0",
   "metadata": {
    "execution": {
     "iopub.execute_input": "2022-09-09T19:50:15.074705Z",
     "iopub.status.busy": "2022-09-09T19:50:15.074095Z",
     "iopub.status.idle": "2022-09-09T19:50:15.176111Z",
     "shell.execute_reply": "2022-09-09T19:50:15.174850Z"
    },
    "papermill": {
     "duration": 0.12803,
     "end_time": "2022-09-09T19:50:15.178706",
     "exception": false,
     "start_time": "2022-09-09T19:50:15.050676",
     "status": "completed"
    },
    "tags": []
   },
   "outputs": [
    {
     "data": {
      "text/plain": [
       "DecisionTreeClassifier(max_depth=10)"
      ]
     },
     "execution_count": 24,
     "metadata": {},
     "output_type": "execute_result"
    }
   ],
   "source": [
    "from sklearn.tree import DecisionTreeClassifier \n",
    "model=DecisionTreeClassifier(max_depth=10)\n",
    "model.fit(X_train, Y_train)"
   ]
  },
  {
   "cell_type": "code",
   "execution_count": 25,
   "id": "383b4f88",
   "metadata": {
    "execution": {
     "iopub.execute_input": "2022-09-09T19:50:15.207942Z",
     "iopub.status.busy": "2022-09-09T19:50:15.207497Z",
     "iopub.status.idle": "2022-09-09T19:50:15.223980Z",
     "shell.execute_reply": "2022-09-09T19:50:15.222064Z"
    },
    "papermill": {
     "duration": 0.034864,
     "end_time": "2022-09-09T19:50:15.227347",
     "exception": false,
     "start_time": "2022-09-09T19:50:15.192483",
     "status": "completed"
    },
    "tags": []
   },
   "outputs": [
    {
     "data": {
      "text/plain": [
       "0.9751506024096386"
      ]
     },
     "execution_count": 25,
     "metadata": {},
     "output_type": "execute_result"
    }
   ],
   "source": [
    "y_train_pred=model.predict(X_train)\n",
    "y_train_accuracy=accuracy_score(Y_train, y_train_pred)\n",
    "y_train_accuracy"
   ]
  },
  {
   "cell_type": "code",
   "execution_count": 26,
   "id": "aca7b22c",
   "metadata": {
    "execution": {
     "iopub.execute_input": "2022-09-09T19:50:15.264828Z",
     "iopub.status.busy": "2022-09-09T19:50:15.263117Z",
     "iopub.status.idle": "2022-09-09T19:50:15.282559Z",
     "shell.execute_reply": "2022-09-09T19:50:15.281210Z"
    },
    "papermill": {
     "duration": 0.040971,
     "end_time": "2022-09-09T19:50:15.285194",
     "exception": false,
     "start_time": "2022-09-09T19:50:15.244223",
     "status": "completed"
    },
    "tags": []
   },
   "outputs": [
    {
     "data": {
      "text/plain": [
       "0.9237713139418254"
      ]
     },
     "execution_count": 26,
     "metadata": {},
     "output_type": "execute_result"
    }
   ],
   "source": [
    "y_test_pred=model.predict(X_test)\n",
    "y_test_accuracy=accuracy_score(Y_test, y_test_pred)\n",
    "y_test_accuracy"
   ]
  },
  {
   "cell_type": "code",
   "execution_count": 27,
   "id": "79d79153",
   "metadata": {
    "execution": {
     "iopub.execute_input": "2022-09-09T19:50:15.316564Z",
     "iopub.status.busy": "2022-09-09T19:50:15.315751Z",
     "iopub.status.idle": "2022-09-09T19:50:15.578941Z",
     "shell.execute_reply": "2022-09-09T19:50:15.577618Z"
    },
    "papermill": {
     "duration": 0.28252,
     "end_time": "2022-09-09T19:50:15.582107",
     "exception": false,
     "start_time": "2022-09-09T19:50:15.299587",
     "status": "completed"
    },
    "tags": []
   },
   "outputs": [
    {
     "data": {
      "text/plain": [
       "1    4733\n",
       "0    4733\n",
       "Name: stroke, dtype: int64"
      ]
     },
     "execution_count": 27,
     "metadata": {},
     "output_type": "execute_result"
    }
   ],
   "source": [
    "from imblearn.over_sampling import SMOTE\n",
    "smote=SMOTE(random_state=1)\n",
    "X_resample, Y_resample=smote.fit_resample(X, Y)\n",
    "Y_resample.value_counts()"
   ]
  },
  {
   "cell_type": "code",
   "execution_count": 28,
   "id": "5f1d2dc6",
   "metadata": {
    "execution": {
     "iopub.execute_input": "2022-09-09T19:50:15.657804Z",
     "iopub.status.busy": "2022-09-09T19:50:15.657335Z",
     "iopub.status.idle": "2022-09-09T19:50:15.668460Z",
     "shell.execute_reply": "2022-09-09T19:50:15.667165Z"
    },
    "papermill": {
     "duration": 0.05105,
     "end_time": "2022-09-09T19:50:15.671463",
     "exception": false,
     "start_time": "2022-09-09T19:50:15.620413",
     "status": "completed"
    },
    "tags": []
   },
   "outputs": [],
   "source": [
    "X_train, X_test, Y_train, Y_test = train_test_split(X_resample, Y_resample, test_size=0.2, random_state=1)"
   ]
  },
  {
   "cell_type": "code",
   "execution_count": 29,
   "id": "98cc1062",
   "metadata": {
    "execution": {
     "iopub.execute_input": "2022-09-09T19:50:15.706452Z",
     "iopub.status.busy": "2022-09-09T19:50:15.705999Z",
     "iopub.status.idle": "2022-09-09T19:50:15.956877Z",
     "shell.execute_reply": "2022-09-09T19:50:15.955180Z"
    },
    "papermill": {
     "duration": 0.27445,
     "end_time": "2022-09-09T19:50:15.965074",
     "exception": false,
     "start_time": "2022-09-09T19:50:15.690624",
     "status": "completed"
    },
    "tags": []
   },
   "outputs": [
    {
     "name": "stderr",
     "output_type": "stream",
     "text": [
      "/opt/conda/lib/python3.7/site-packages/sklearn/linear_model/_logistic.py:818: ConvergenceWarning: lbfgs failed to converge (status=1):\n",
      "STOP: TOTAL NO. of ITERATIONS REACHED LIMIT.\n",
      "\n",
      "Increase the number of iterations (max_iter) or scale the data as shown in:\n",
      "    https://scikit-learn.org/stable/modules/preprocessing.html\n",
      "Please also refer to the documentation for alternative solver options:\n",
      "    https://scikit-learn.org/stable/modules/linear_model.html#logistic-regression\n",
      "  extra_warning_msg=_LOGISTIC_SOLVER_CONVERGENCE_MSG,\n"
     ]
    },
    {
     "data": {
      "text/plain": [
       "LogisticRegression()"
      ]
     },
     "execution_count": 29,
     "metadata": {},
     "output_type": "execute_result"
    }
   ],
   "source": [
    "model=LogisticRegression()\n",
    "model.fit(X_train, Y_train)\n"
   ]
  },
  {
   "cell_type": "code",
   "execution_count": 30,
   "id": "7f2b8745",
   "metadata": {
    "execution": {
     "iopub.execute_input": "2022-09-09T19:50:16.010530Z",
     "iopub.status.busy": "2022-09-09T19:50:16.009795Z",
     "iopub.status.idle": "2022-09-09T19:50:16.025798Z",
     "shell.execute_reply": "2022-09-09T19:50:16.024111Z"
    },
    "papermill": {
     "duration": 0.042013,
     "end_time": "2022-09-09T19:50:16.028712",
     "exception": false,
     "start_time": "2022-09-09T19:50:15.986699",
     "status": "completed"
    },
    "tags": []
   },
   "outputs": [
    {
     "name": "stdout",
     "output_type": "stream",
     "text": [
      "0.9193079767564712\n"
     ]
    }
   ],
   "source": [
    "y_train_pred=model.predict(X_train)\n",
    "train_accuracy=accuracy_score(Y_train, y_train_pred)\n",
    "print(train_accuracy)"
   ]
  },
  {
   "cell_type": "code",
   "execution_count": 31,
   "id": "50ba01aa",
   "metadata": {
    "execution": {
     "iopub.execute_input": "2022-09-09T19:50:16.109003Z",
     "iopub.status.busy": "2022-09-09T19:50:16.108446Z",
     "iopub.status.idle": "2022-09-09T19:50:16.120830Z",
     "shell.execute_reply": "2022-09-09T19:50:16.119608Z"
    },
    "papermill": {
     "duration": 0.075364,
     "end_time": "2022-09-09T19:50:16.137446",
     "exception": false,
     "start_time": "2022-09-09T19:50:16.062082",
     "status": "completed"
    },
    "tags": []
   },
   "outputs": [
    {
     "data": {
      "text/plain": [
       "array([[3585,  190],\n",
       "       [ 421, 3376]])"
      ]
     },
     "execution_count": 31,
     "metadata": {},
     "output_type": "execute_result"
    }
   ],
   "source": [
    "confusion_matrix(Y_train, y_train_pred)"
   ]
  },
  {
   "cell_type": "code",
   "execution_count": 32,
   "id": "84a1620a",
   "metadata": {
    "execution": {
     "iopub.execute_input": "2022-09-09T19:50:16.168422Z",
     "iopub.status.busy": "2022-09-09T19:50:16.167939Z",
     "iopub.status.idle": "2022-09-09T19:50:16.179801Z",
     "shell.execute_reply": "2022-09-09T19:50:16.177853Z"
    },
    "papermill": {
     "duration": 0.030338,
     "end_time": "2022-09-09T19:50:16.183030",
     "exception": false,
     "start_time": "2022-09-09T19:50:16.152692",
     "status": "completed"
    },
    "tags": []
   },
   "outputs": [
    {
     "name": "stdout",
     "output_type": "stream",
     "text": [
      "0.9076029567053854\n"
     ]
    }
   ],
   "source": [
    "y_test_pred=model.predict(X_test)\n",
    "test_accuracy=accuracy_score(Y_test, y_test_pred)\n",
    "print(test_accuracy)"
   ]
  },
  {
   "cell_type": "code",
   "execution_count": 33,
   "id": "69f8725d",
   "metadata": {
    "execution": {
     "iopub.execute_input": "2022-09-09T19:50:16.229229Z",
     "iopub.status.busy": "2022-09-09T19:50:16.228668Z",
     "iopub.status.idle": "2022-09-09T19:50:16.239444Z",
     "shell.execute_reply": "2022-09-09T19:50:16.238179Z"
    },
    "papermill": {
     "duration": 0.037753,
     "end_time": "2022-09-09T19:50:16.242523",
     "exception": false,
     "start_time": "2022-09-09T19:50:16.204770",
     "status": "completed"
    },
    "tags": []
   },
   "outputs": [
    {
     "data": {
      "text/plain": [
       "array([[895,  63],\n",
       "       [112, 824]])"
      ]
     },
     "execution_count": 33,
     "metadata": {},
     "output_type": "execute_result"
    }
   ],
   "source": [
    "confusion_matrix(Y_test, y_test_pred)"
   ]
  },
  {
   "cell_type": "code",
   "execution_count": 34,
   "id": "bad90d27",
   "metadata": {
    "execution": {
     "iopub.execute_input": "2022-09-09T19:50:16.308139Z",
     "iopub.status.busy": "2022-09-09T19:50:16.307689Z",
     "iopub.status.idle": "2022-09-09T19:50:31.461086Z",
     "shell.execute_reply": "2022-09-09T19:50:31.459960Z"
    },
    "papermill": {
     "duration": 15.180512,
     "end_time": "2022-09-09T19:50:31.463578",
     "exception": false,
     "start_time": "2022-09-09T19:50:16.283066",
     "status": "completed"
    },
    "tags": []
   },
   "outputs": [
    {
     "data": {
      "text/plain": [
       "SVC(kernel='linear', random_state=1)"
      ]
     },
     "execution_count": 34,
     "metadata": {},
     "output_type": "execute_result"
    }
   ],
   "source": [
    "# Support Vector Machine\n",
    "from sklearn.svm import SVC\n",
    "model=SVC(kernel='linear', random_state=1)\n",
    "model.fit(X_train, Y_train)\n"
   ]
  },
  {
   "cell_type": "code",
   "execution_count": 35,
   "id": "69baaa09",
   "metadata": {
    "execution": {
     "iopub.execute_input": "2022-09-09T19:50:31.494442Z",
     "iopub.status.busy": "2022-09-09T19:50:31.493972Z",
     "iopub.status.idle": "2022-09-09T19:50:31.788189Z",
     "shell.execute_reply": "2022-09-09T19:50:31.787182Z"
    },
    "papermill": {
     "duration": 0.312477,
     "end_time": "2022-09-09T19:50:31.790579",
     "exception": false,
     "start_time": "2022-09-09T19:50:31.478102",
     "status": "completed"
    },
    "tags": []
   },
   "outputs": [
    {
     "data": {
      "text/plain": [
       "0.9219492868462758"
      ]
     },
     "execution_count": 35,
     "metadata": {},
     "output_type": "execute_result"
    }
   ],
   "source": [
    "y_train_pred=model.predict(X_train)\n",
    "accuracy_score(Y_train,y_train_pred)"
   ]
  },
  {
   "cell_type": "code",
   "execution_count": 36,
   "id": "80d484f6",
   "metadata": {
    "execution": {
     "iopub.execute_input": "2022-09-09T19:50:31.821288Z",
     "iopub.status.busy": "2022-09-09T19:50:31.820830Z",
     "iopub.status.idle": "2022-09-09T19:50:31.902681Z",
     "shell.execute_reply": "2022-09-09T19:50:31.901637Z"
    },
    "papermill": {
     "duration": 0.10037,
     "end_time": "2022-09-09T19:50:31.905396",
     "exception": false,
     "start_time": "2022-09-09T19:50:31.805026",
     "status": "completed"
    },
    "tags": []
   },
   "outputs": [
    {
     "data": {
      "text/plain": [
       "0.9171066525871172"
      ]
     },
     "execution_count": 36,
     "metadata": {},
     "output_type": "execute_result"
    }
   ],
   "source": [
    "y_test_pred=model.predict(X_test)\n",
    "accuracy_score(Y_test, y_test_pred)"
   ]
  },
  {
   "cell_type": "code",
   "execution_count": 37,
   "id": "e32da70c",
   "metadata": {
    "execution": {
     "iopub.execute_input": "2022-09-09T19:50:31.936335Z",
     "iopub.status.busy": "2022-09-09T19:50:31.935894Z",
     "iopub.status.idle": "2022-09-09T19:50:31.963643Z",
     "shell.execute_reply": "2022-09-09T19:50:31.962494Z"
    },
    "papermill": {
     "duration": 0.046308,
     "end_time": "2022-09-09T19:50:31.966370",
     "exception": false,
     "start_time": "2022-09-09T19:50:31.920062",
     "status": "completed"
    },
    "tags": []
   },
   "outputs": [
    {
     "data": {
      "text/plain": [
       "DecisionTreeClassifier(max_depth=5)"
      ]
     },
     "execution_count": 37,
     "metadata": {},
     "output_type": "execute_result"
    }
   ],
   "source": [
    "from sklearn.tree import DecisionTreeClassifier \n",
    "model=DecisionTreeClassifier(max_depth=5)\n",
    "model.fit(X_train, Y_train)"
   ]
  },
  {
   "cell_type": "code",
   "execution_count": 38,
   "id": "c068eebc",
   "metadata": {
    "execution": {
     "iopub.execute_input": "2022-09-09T19:50:31.997490Z",
     "iopub.status.busy": "2022-09-09T19:50:31.997043Z",
     "iopub.status.idle": "2022-09-09T19:50:32.009174Z",
     "shell.execute_reply": "2022-09-09T19:50:32.007710Z"
    },
    "papermill": {
     "duration": 0.030756,
     "end_time": "2022-09-09T19:50:32.011645",
     "exception": false,
     "start_time": "2022-09-09T19:50:31.980889",
     "status": "completed"
    },
    "tags": []
   },
   "outputs": [
    {
     "data": {
      "text/plain": [
       "0.8423137876386688"
      ]
     },
     "execution_count": 38,
     "metadata": {},
     "output_type": "execute_result"
    }
   ],
   "source": [
    "y_train_pred=model.predict(X_train)\n",
    "y_train_accuracy=accuracy_score(Y_train, y_train_pred)\n",
    "y_train_accuracy"
   ]
  },
  {
   "cell_type": "code",
   "execution_count": 39,
   "id": "422ccf8f",
   "metadata": {
    "execution": {
     "iopub.execute_input": "2022-09-09T19:50:32.043218Z",
     "iopub.status.busy": "2022-09-09T19:50:32.042753Z",
     "iopub.status.idle": "2022-09-09T19:50:32.053071Z",
     "shell.execute_reply": "2022-09-09T19:50:32.052171Z"
    },
    "papermill": {
     "duration": 0.02863,
     "end_time": "2022-09-09T19:50:32.055147",
     "exception": false,
     "start_time": "2022-09-09T19:50:32.026517",
     "status": "completed"
    },
    "tags": []
   },
   "outputs": [
    {
     "data": {
      "text/plain": [
       "0.8252375923970433"
      ]
     },
     "execution_count": 39,
     "metadata": {},
     "output_type": "execute_result"
    }
   ],
   "source": [
    "y_test_pred=model.predict(X_test)\n",
    "y_test_accuracy=accuracy_score(Y_test, y_test_pred)\n",
    "y_test_accuracy"
   ]
  },
  {
   "cell_type": "code",
   "execution_count": 40,
   "id": "05f99f4b",
   "metadata": {
    "execution": {
     "iopub.execute_input": "2022-09-09T19:50:32.087219Z",
     "iopub.status.busy": "2022-09-09T19:50:32.086267Z",
     "iopub.status.idle": "2022-09-09T19:50:34.405182Z",
     "shell.execute_reply": "2022-09-09T19:50:34.403945Z"
    },
    "papermill": {
     "duration": 2.337576,
     "end_time": "2022-09-09T19:50:34.407732",
     "exception": false,
     "start_time": "2022-09-09T19:50:32.070156",
     "status": "completed"
    },
    "tags": []
   },
   "outputs": [
    {
     "data": {
      "image/png": "[encoded data removed]",
      "text/plain": [
       "<Figure size 432x288 with 1 Axes>"
      ]
     },
     "metadata": {
      "needs_background": "light"
     },
     "output_type": "display_data"
    }
   ],
   "source": [
    "from sklearn.tree import plot_tree\n",
    "from sklearn import tree\n",
    "tree.plot_tree(model)\n",
    "plt.show()"
   ]
  },
  {
   "cell_type": "code",
   "execution_count": 41,
   "id": "2b01a785",
   "metadata": {
    "execution": {
     "iopub.execute_input": "2022-09-09T19:50:34.440589Z",
     "iopub.status.busy": "2022-09-09T19:50:34.439897Z",
     "iopub.status.idle": "2022-09-09T19:50:35.249344Z",
     "shell.execute_reply": "2022-09-09T19:50:35.248092Z"
    },
    "papermill": {
     "duration": 0.828689,
     "end_time": "2022-09-09T19:50:35.251710",
     "exception": false,
     "start_time": "2022-09-09T19:50:34.423021",
     "status": "completed"
    },
    "tags": []
   },
   "outputs": [
    {
     "data": {
      "text/plain": [
       "RandomForestClassifier()"
      ]
     },
     "execution_count": 41,
     "metadata": {},
     "output_type": "execute_result"
    }
   ],
   "source": [
    "from sklearn.ensemble import RandomForestClassifier\n",
    "model=RandomForestClassifier()\n",
    "model.fit(X_train, Y_train)"
   ]
  },
  {
   "cell_type": "code",
   "execution_count": 42,
   "id": "93f79e1d",
   "metadata": {
    "execution": {
     "iopub.execute_input": "2022-09-09T19:50:35.287198Z",
     "iopub.status.busy": "2022-09-09T19:50:35.286562Z",
     "iopub.status.idle": "2022-09-09T19:50:35.425812Z",
     "shell.execute_reply": "2022-09-09T19:50:35.424629Z"
    },
    "papermill": {
     "duration": 0.16094,
     "end_time": "2022-09-09T19:50:35.428385",
     "exception": false,
     "start_time": "2022-09-09T19:50:35.267445",
     "status": "completed"
    },
    "tags": []
   },
   "outputs": [
    {
     "data": {
      "text/plain": [
       "1.0"
      ]
     },
     "execution_count": 42,
     "metadata": {},
     "output_type": "execute_result"
    }
   ],
   "source": [
    "y_train_pred=model.predict(X_train)\n",
    "y_train_accuracy=accuracy_score(Y_train, y_train_pred)\n",
    "y_train_accuracy"
   ]
  },
  {
   "cell_type": "code",
   "execution_count": 43,
   "id": "971af912",
   "metadata": {
    "execution": {
     "iopub.execute_input": "2022-09-09T19:50:35.462233Z",
     "iopub.status.busy": "2022-09-09T19:50:35.461020Z",
     "iopub.status.idle": "2022-09-09T19:50:35.513366Z",
     "shell.execute_reply": "2022-09-09T19:50:35.512004Z"
    },
    "papermill": {
     "duration": 0.072028,
     "end_time": "2022-09-09T19:50:35.516031",
     "exception": false,
     "start_time": "2022-09-09T19:50:35.444003",
     "status": "completed"
    },
    "tags": []
   },
   "outputs": [
    {
     "data": {
      "text/plain": [
       "0.9688489968321014"
      ]
     },
     "execution_count": 43,
     "metadata": {},
     "output_type": "execute_result"
    }
   ],
   "source": [
    "y_test_pred=model.predict(X_test)\n",
    "y_test_accuracy=accuracy_score(Y_test, y_test_pred)\n",
    "y_test_accuracy"
   ]
  },
  {
   "cell_type": "code",
   "execution_count": 44,
   "id": "ee8f88cf",
   "metadata": {
    "execution": {
     "iopub.execute_input": "2022-09-09T19:50:35.550518Z",
     "iopub.status.busy": "2022-09-09T19:50:35.549845Z",
     "iopub.status.idle": "2022-09-09T19:50:36.568047Z",
     "shell.execute_reply": "2022-09-09T19:50:36.566614Z"
    },
    "papermill": {
     "duration": 1.038324,
     "end_time": "2022-09-09T19:50:36.570665",
     "exception": false,
     "start_time": "2022-09-09T19:50:35.532341",
     "status": "completed"
    },
    "tags": []
   },
   "outputs": [
    {
     "data": {
      "text/plain": [
       "GradientBoostingClassifier()"
      ]
     },
     "execution_count": 44,
     "metadata": {},
     "output_type": "execute_result"
    }
   ],
   "source": [
    "#XGBoosting\n",
    "from sklearn.ensemble import GradientBoostingClassifier\n",
    "model=GradientBoostingClassifier()\n",
    "model.fit(X_train,Y_train)\n"
   ]
  },
  {
   "cell_type": "code",
   "execution_count": 45,
   "id": "2f8658f6",
   "metadata": {
    "execution": {
     "iopub.execute_input": "2022-09-09T19:50:36.604663Z",
     "iopub.status.busy": "2022-09-09T19:50:36.604230Z",
     "iopub.status.idle": "2022-09-09T19:50:36.631256Z",
     "shell.execute_reply": "2022-09-09T19:50:36.629940Z"
    },
    "papermill": {
     "duration": 0.047261,
     "end_time": "2022-09-09T19:50:36.634045",
     "exception": false,
     "start_time": "2022-09-09T19:50:36.586784",
     "status": "completed"
    },
    "tags": []
   },
   "outputs": [
    {
     "data": {
      "text/plain": [
       "0.9495509772847333"
      ]
     },
     "execution_count": 45,
     "metadata": {},
     "output_type": "execute_result"
    }
   ],
   "source": [
    "y_train_pred=model.predict(X_train)\n",
    "train_accuracy=accuracy_score(Y_train, y_train_pred)\n",
    "train_accuracy"
   ]
  },
  {
   "cell_type": "code",
   "execution_count": 46,
   "id": "7a4828d5",
   "metadata": {
    "execution": {
     "iopub.execute_input": "2022-09-09T19:50:36.667564Z",
     "iopub.status.busy": "2022-09-09T19:50:36.667138Z",
     "iopub.status.idle": "2022-09-09T19:50:36.682384Z",
     "shell.execute_reply": "2022-09-09T19:50:36.681423Z"
    },
    "papermill": {
     "duration": 0.034742,
     "end_time": "2022-09-09T19:50:36.684722",
     "exception": false,
     "start_time": "2022-09-09T19:50:36.649980",
     "status": "completed"
    },
    "tags": []
   },
   "outputs": [
    {
     "data": {
      "text/plain": [
       "0.9345300950369588"
      ]
     },
     "execution_count": 46,
     "metadata": {},
     "output_type": "execute_result"
    }
   ],
   "source": [
    "y_test_pred=model.predict(X_test)\n",
    "test_accuracy=accuracy_score(Y_test, y_test_pred)\n",
    "test_accuracy"
   ]
  }
 ],
 "metadata": {
  "kernelspec": {
   "display_name": "Python 3",
   "language": "python",
   "name": "python3"
  },
  "language_info": {
   "codemirror_mode": {
    "name": "ipython",
    "version": 3
   },
   "file_extension": ".py",
   "mimetype": "text/x-python",
   "name": "python",
   "nbconvert_exporter": "python",
   "pygments_lexer": "ipython3",
   "version": "3.7.12"
  },
  "papermill": {
   "default_parameters": {},
   "duration": 34.540969,
   "end_time": "2022-09-09T19:50:37.523202",
   "environment_variables": {},
   "exception": null,
   "input_path": "__notebook__.ipynb",
   "output_path": "__notebook__.ipynb",
   "parameters": {},
   "start_time": "2022-09-09T19:50:02.982233",
   "version": "2.3.4"
  }
 },
 "nbformat": 4,
 "nbformat_minor": 5
}
