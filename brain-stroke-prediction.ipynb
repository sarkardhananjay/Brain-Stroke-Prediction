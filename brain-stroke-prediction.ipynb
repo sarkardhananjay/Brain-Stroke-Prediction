{
 "cells": [
  {
   "cell_type": "code",
   "execution_count": 1,
   "id": "70821fd0",
   "metadata": {
    "execution": {
     "iopub.execute_input": "2022-09-09T19:52:39.626601Z",
     "iopub.status.busy": "2022-09-09T19:52:39.626096Z",
     "iopub.status.idle": "2022-09-09T19:52:40.954814Z",
     "shell.execute_reply": "2022-09-09T19:52:40.953713Z"
    },
    "papermill": {
     "duration": 1.345559,
     "end_time": "2022-09-09T19:52:40.957675",
     "exception": false,
     "start_time": "2022-09-09T19:52:39.612116",
     "status": "completed"
    },
    "tags": []
   },
   "outputs": [],
   "source": [
    "import numpy as np\n",
    "import pandas as pd\n",
    "import matplotlib.pyplot as plt\n",
    "import seaborn as sns\n",
    "from sklearn.metrics import accuracy_score\n",
    "from sklearn.metrics import confusion_matrix"
   ]
  },
  {
   "cell_type": "code",
   "execution_count": 2,
   "id": "dd23d3bc",
   "metadata": {
    "execution": {
     "iopub.execute_input": "2022-09-09T19:52:40.981696Z",
     "iopub.status.busy": "2022-09-09T19:52:40.980506Z",
     "iopub.status.idle": "2022-09-09T19:52:41.014294Z",
     "shell.execute_reply": "2022-09-09T19:52:41.013334Z"
    },
    "papermill": {
     "duration": 0.04856,
     "end_time": "2022-09-09T19:52:41.017165",
     "exception": false,
     "start_time": "2022-09-09T19:52:40.968605",
     "status": "completed"
    },
    "tags": []
   },
   "outputs": [],
   "source": [
    "df=pd.read_csv('../input/full-filled-brain-stroke-dataset/full_data.csv')"
   ]
  },
  {
   "cell_type": "code",
   "execution_count": 3,
   "id": "f3e264ea",
   "metadata": {
    "execution": {
     "iopub.execute_input": "2022-09-09T19:52:41.041180Z",
     "iopub.status.busy": "2022-09-09T19:52:41.040366Z",
     "iopub.status.idle": "2022-09-09T19:52:41.068686Z",
     "shell.execute_reply": "2022-09-09T19:52:41.067495Z"
    },
    "papermill": {
     "duration": 0.043982,
     "end_time": "2022-09-09T19:52:41.072111",
     "exception": false,
     "start_time": "2022-09-09T19:52:41.028129",
     "status": "completed"
    },
    "tags": []
   },
   "outputs": [
    {
     "data": {
      "text/html": [
       "<div>\n",
       "<style scoped>\n",
       "    .dataframe tbody tr th:only-of-type {\n",
       "        vertical-align: middle;\n",
       "    }\n",
       "\n",
       "    .dataframe tbody tr th {\n",
       "        vertical-align: top;\n",
       "    }\n",
       "\n",
       "    .dataframe thead th {\n",
       "        text-align: right;\n",
       "    }\n",
       "</style>\n",
       "<table border=\"1\" class=\"dataframe\">\n",
       "  <thead>\n",
       "    <tr style=\"text-align: right;\">\n",
       "      <th></th>\n",
       "      <th>gender</th>\n",
       "      <th>age</th>\n",
       "      <th>hypertension</th>\n",
       "      <th>heart_disease</th>\n",
       "      <th>ever_married</th>\n",
       "      <th>work_type</th>\n",
       "      <th>Residence_type</th>\n",
       "      <th>avg_glucose_level</th>\n",
       "      <th>bmi</th>\n",
       "      <th>smoking_status</th>\n",
       "      <th>stroke</th>\n",
       "    </tr>\n",
       "  </thead>\n",
       "  <tbody>\n",
       "    <tr>\n",
       "      <th>0</th>\n",
       "      <td>Male</td>\n",
       "      <td>67.0</td>\n",
       "      <td>0</td>\n",
       "      <td>1</td>\n",
       "      <td>Yes</td>\n",
       "      <td>Private</td>\n",
       "      <td>Urban</td>\n",
       "      <td>228.69</td>\n",
       "      <td>36.6</td>\n",
       "      <td>formerly smoked</td>\n",
       "      <td>1</td>\n",
       "    </tr>\n",
       "    <tr>\n",
       "      <th>1</th>\n",
       "      <td>Male</td>\n",
       "      <td>80.0</td>\n",
       "      <td>0</td>\n",
       "      <td>1</td>\n",
       "      <td>Yes</td>\n",
       "      <td>Private</td>\n",
       "      <td>Rural</td>\n",
       "      <td>105.92</td>\n",
       "      <td>32.5</td>\n",
       "      <td>never smoked</td>\n",
       "      <td>1</td>\n",
       "    </tr>\n",
       "    <tr>\n",
       "      <th>2</th>\n",
       "      <td>Female</td>\n",
       "      <td>49.0</td>\n",
       "      <td>0</td>\n",
       "      <td>0</td>\n",
       "      <td>Yes</td>\n",
       "      <td>Private</td>\n",
       "      <td>Urban</td>\n",
       "      <td>171.23</td>\n",
       "      <td>34.4</td>\n",
       "      <td>smokes</td>\n",
       "      <td>1</td>\n",
       "    </tr>\n",
       "    <tr>\n",
       "      <th>3</th>\n",
       "      <td>Female</td>\n",
       "      <td>79.0</td>\n",
       "      <td>1</td>\n",
       "      <td>0</td>\n",
       "      <td>Yes</td>\n",
       "      <td>Self-employed</td>\n",
       "      <td>Rural</td>\n",
       "      <td>174.12</td>\n",
       "      <td>24.0</td>\n",
       "      <td>never smoked</td>\n",
       "      <td>1</td>\n",
       "    </tr>\n",
       "    <tr>\n",
       "      <th>4</th>\n",
       "      <td>Male</td>\n",
       "      <td>81.0</td>\n",
       "      <td>0</td>\n",
       "      <td>0</td>\n",
       "      <td>Yes</td>\n",
       "      <td>Private</td>\n",
       "      <td>Urban</td>\n",
       "      <td>186.21</td>\n",
       "      <td>29.0</td>\n",
       "      <td>formerly smoked</td>\n",
       "      <td>1</td>\n",
       "    </tr>\n",
       "    <tr>\n",
       "      <th>5</th>\n",
       "      <td>Male</td>\n",
       "      <td>74.0</td>\n",
       "      <td>1</td>\n",
       "      <td>1</td>\n",
       "      <td>Yes</td>\n",
       "      <td>Private</td>\n",
       "      <td>Rural</td>\n",
       "      <td>70.09</td>\n",
       "      <td>27.4</td>\n",
       "      <td>never smoked</td>\n",
       "      <td>1</td>\n",
       "    </tr>\n",
       "    <tr>\n",
       "      <th>6</th>\n",
       "      <td>Female</td>\n",
       "      <td>69.0</td>\n",
       "      <td>0</td>\n",
       "      <td>0</td>\n",
       "      <td>No</td>\n",
       "      <td>Private</td>\n",
       "      <td>Urban</td>\n",
       "      <td>94.39</td>\n",
       "      <td>22.8</td>\n",
       "      <td>never smoked</td>\n",
       "      <td>1</td>\n",
       "    </tr>\n",
       "    <tr>\n",
       "      <th>7</th>\n",
       "      <td>Female</td>\n",
       "      <td>78.0</td>\n",
       "      <td>0</td>\n",
       "      <td>0</td>\n",
       "      <td>Yes</td>\n",
       "      <td>Private</td>\n",
       "      <td>Urban</td>\n",
       "      <td>58.57</td>\n",
       "      <td>24.2</td>\n",
       "      <td>Unknown</td>\n",
       "      <td>1</td>\n",
       "    </tr>\n",
       "    <tr>\n",
       "      <th>8</th>\n",
       "      <td>Female</td>\n",
       "      <td>81.0</td>\n",
       "      <td>1</td>\n",
       "      <td>0</td>\n",
       "      <td>Yes</td>\n",
       "      <td>Private</td>\n",
       "      <td>Rural</td>\n",
       "      <td>80.43</td>\n",
       "      <td>29.7</td>\n",
       "      <td>never smoked</td>\n",
       "      <td>1</td>\n",
       "    </tr>\n",
       "    <tr>\n",
       "      <th>9</th>\n",
       "      <td>Female</td>\n",
       "      <td>61.0</td>\n",
       "      <td>0</td>\n",
       "      <td>1</td>\n",
       "      <td>Yes</td>\n",
       "      <td>Govt_job</td>\n",
       "      <td>Rural</td>\n",
       "      <td>120.46</td>\n",
       "      <td>36.8</td>\n",
       "      <td>smokes</td>\n",
       "      <td>1</td>\n",
       "    </tr>\n",
       "  </tbody>\n",
       "</table>\n",
       "</div>"
      ],
      "text/plain": [
       "   gender   age  hypertension  heart_disease ever_married      work_type  \\\n",
       "0    Male  67.0             0              1          Yes        Private   \n",
       "1    Male  80.0             0              1          Yes        Private   \n",
       "2  Female  49.0             0              0          Yes        Private   \n",
       "3  Female  79.0             1              0          Yes  Self-employed   \n",
       "4    Male  81.0             0              0          Yes        Private   \n",
       "5    Male  74.0             1              1          Yes        Private   \n",
       "6  Female  69.0             0              0           No        Private   \n",
       "7  Female  78.0             0              0          Yes        Private   \n",
       "8  Female  81.0             1              0          Yes        Private   \n",
       "9  Female  61.0             0              1          Yes       Govt_job   \n",
       "\n",
       "  Residence_type  avg_glucose_level   bmi   smoking_status  stroke  \n",
       "0          Urban             228.69  36.6  formerly smoked       1  \n",
       "1          Rural             105.92  32.5     never smoked       1  \n",
       "2          Urban             171.23  34.4           smokes       1  \n",
       "3          Rural             174.12  24.0     never smoked       1  \n",
       "4          Urban             186.21  29.0  formerly smoked       1  \n",
       "5          Rural              70.09  27.4     never smoked       1  \n",
       "6          Urban              94.39  22.8     never smoked       1  \n",
       "7          Urban              58.57  24.2          Unknown       1  \n",
       "8          Rural              80.43  29.7     never smoked       1  \n",
       "9          Rural             120.46  36.8           smokes       1  "
      ]
     },
     "execution_count": 3,
     "metadata": {},
     "output_type": "execute_result"
    }
   ],
   "source": [
    "df.head(10)"
   ]
  },
  {
   "cell_type": "code",
   "execution_count": 4,
   "id": "af469d93",
   "metadata": {
    "execution": {
     "iopub.execute_input": "2022-09-09T19:52:41.098343Z",
     "iopub.status.busy": "2022-09-09T19:52:41.097618Z",
     "iopub.status.idle": "2022-09-09T19:52:41.103570Z",
     "shell.execute_reply": "2022-09-09T19:52:41.102633Z"
    },
    "papermill": {
     "duration": 0.020601,
     "end_time": "2022-09-09T19:52:41.105622",
     "exception": false,
     "start_time": "2022-09-09T19:52:41.085021",
     "status": "completed"
    },
    "tags": []
   },
   "outputs": [
    {
     "data": {
      "text/plain": [
       "(4981, 11)"
      ]
     },
     "execution_count": 4,
     "metadata": {},
     "output_type": "execute_result"
    }
   ],
   "source": [
    "df.shape"
   ]
  },
  {
   "cell_type": "code",
   "execution_count": 5,
   "id": "e67944ee",
   "metadata": {
    "execution": {
     "iopub.execute_input": "2022-09-09T19:52:41.130342Z",
     "iopub.status.busy": "2022-09-09T19:52:41.129566Z",
     "iopub.status.idle": "2022-09-09T19:52:41.140584Z",
     "shell.execute_reply": "2022-09-09T19:52:41.139508Z"
    },
    "papermill": {
     "duration": 0.026274,
     "end_time": "2022-09-09T19:52:41.143068",
     "exception": false,
     "start_time": "2022-09-09T19:52:41.116794",
     "status": "completed"
    },
    "tags": []
   },
   "outputs": [
    {
     "data": {
      "text/plain": [
       "gender               0\n",
       "age                  0\n",
       "hypertension         0\n",
       "heart_disease        0\n",
       "ever_married         0\n",
       "work_type            0\n",
       "Residence_type       0\n",
       "avg_glucose_level    0\n",
       "bmi                  0\n",
       "smoking_status       0\n",
       "stroke               0\n",
       "dtype: int64"
      ]
     },
     "execution_count": 5,
     "metadata": {},
     "output_type": "execute_result"
    }
   ],
   "source": [
    "df.isnull().sum()"
   ]
  },
  {
   "cell_type": "code",
   "execution_count": 6,
   "id": "ddb789e4",
   "metadata": {
    "execution": {
     "iopub.execute_input": "2022-09-09T19:52:41.169065Z",
     "iopub.status.busy": "2022-09-09T19:52:41.168335Z",
     "iopub.status.idle": "2022-09-09T19:52:41.195844Z",
     "shell.execute_reply": "2022-09-09T19:52:41.194670Z"
    },
    "papermill": {
     "duration": 0.043589,
     "end_time": "2022-09-09T19:52:41.198495",
     "exception": false,
     "start_time": "2022-09-09T19:52:41.154906",
     "status": "completed"
    },
    "tags": []
   },
   "outputs": [
    {
     "name": "stdout",
     "output_type": "stream",
     "text": [
      "<class 'pandas.core.frame.DataFrame'>\n",
      "RangeIndex: 4981 entries, 0 to 4980\n",
      "Data columns (total 11 columns):\n",
      " #   Column             Non-Null Count  Dtype  \n",
      "---  ------             --------------  -----  \n",
      " 0   gender             4981 non-null   object \n",
      " 1   age                4981 non-null   float64\n",
      " 2   hypertension       4981 non-null   int64  \n",
      " 3   heart_disease      4981 non-null   int64  \n",
      " 4   ever_married       4981 non-null   object \n",
      " 5   work_type          4981 non-null   object \n",
      " 6   Residence_type     4981 non-null   object \n",
      " 7   avg_glucose_level  4981 non-null   float64\n",
      " 8   bmi                4981 non-null   float64\n",
      " 9   smoking_status     4981 non-null   object \n",
      " 10  stroke             4981 non-null   int64  \n",
      "dtypes: float64(3), int64(3), object(5)\n",
      "memory usage: 428.2+ KB\n"
     ]
    }
   ],
   "source": [
    "df.info()"
   ]
  },
  {
   "cell_type": "code",
   "execution_count": 7,
   "id": "671b0363",
   "metadata": {
    "execution": {
     "iopub.execute_input": "2022-09-09T19:52:41.224483Z",
     "iopub.status.busy": "2022-09-09T19:52:41.223757Z",
     "iopub.status.idle": "2022-09-09T19:52:41.229970Z",
     "shell.execute_reply": "2022-09-09T19:52:41.228849Z"
    },
    "papermill": {
     "duration": 0.022439,
     "end_time": "2022-09-09T19:52:41.232834",
     "exception": false,
     "start_time": "2022-09-09T19:52:41.210395",
     "status": "completed"
    },
    "tags": []
   },
   "outputs": [],
   "source": [
    "df_cate = df[['gender', 'ever_married', 'work_type', 'Residence_type', 'smoking_status']]"
   ]
  },
  {
   "cell_type": "code",
   "execution_count": 8,
   "id": "b439471e",
   "metadata": {
    "execution": {
     "iopub.execute_input": "2022-09-09T19:52:41.258086Z",
     "iopub.status.busy": "2022-09-09T19:52:41.257680Z",
     "iopub.status.idle": "2022-09-09T19:52:41.267099Z",
     "shell.execute_reply": "2022-09-09T19:52:41.265699Z"
    },
    "papermill": {
     "duration": 0.025174,
     "end_time": "2022-09-09T19:52:41.269820",
     "exception": false,
     "start_time": "2022-09-09T19:52:41.244646",
     "status": "completed"
    },
    "tags": []
   },
   "outputs": [
    {
     "name": "stdout",
     "output_type": "stream",
     "text": [
      "['Male' 'Female']\n",
      "['Yes' 'No']\n",
      "['Private' 'Self-employed' 'Govt_job' 'children']\n",
      "['Urban' 'Rural']\n",
      "['formerly smoked' 'never smoked' 'smokes' 'Unknown']\n"
     ]
    }
   ],
   "source": [
    "for i in df_cate.columns:\n",
    "    print(df_cate[i].unique())"
   ]
  },
  {
   "cell_type": "code",
   "execution_count": 9,
   "id": "69f0641e",
   "metadata": {
    "execution": {
     "iopub.execute_input": "2022-09-09T19:52:41.295504Z",
     "iopub.status.busy": "2022-09-09T19:52:41.294682Z",
     "iopub.status.idle": "2022-09-09T19:52:41.310969Z",
     "shell.execute_reply": "2022-09-09T19:52:41.309720Z"
    },
    "papermill": {
     "duration": 0.032199,
     "end_time": "2022-09-09T19:52:41.313726",
     "exception": false,
     "start_time": "2022-09-09T19:52:41.281527",
     "status": "completed"
    },
    "tags": []
   },
   "outputs": [],
   "source": [
    "df['gender'].replace(['Male', 'Female'], [1, 0], inplace=True)\n",
    "df['ever_married'].replace(['Yes', 'No'], [1, 0], inplace=True)\n",
    "df['Residence_type'].replace(['Urban', 'Rural'], [1, 0], inplace=True)"
   ]
  },
  {
   "cell_type": "code",
   "execution_count": 10,
   "id": "84644b7e",
   "metadata": {
    "execution": {
     "iopub.execute_input": "2022-09-09T19:52:41.338762Z",
     "iopub.status.busy": "2022-09-09T19:52:41.338307Z",
     "iopub.status.idle": "2022-09-09T19:52:41.354887Z",
     "shell.execute_reply": "2022-09-09T19:52:41.353660Z"
    },
    "papermill": {
     "duration": 0.031922,
     "end_time": "2022-09-09T19:52:41.357491",
     "exception": false,
     "start_time": "2022-09-09T19:52:41.325569",
     "status": "completed"
    },
    "tags": []
   },
   "outputs": [
    {
     "data": {
      "text/html": [
       "<div>\n",
       "<style scoped>\n",
       "    .dataframe tbody tr th:only-of-type {\n",
       "        vertical-align: middle;\n",
       "    }\n",
       "\n",
       "    .dataframe tbody tr th {\n",
       "        vertical-align: top;\n",
       "    }\n",
       "\n",
       "    .dataframe thead th {\n",
       "        text-align: right;\n",
       "    }\n",
       "</style>\n",
       "<table border=\"1\" class=\"dataframe\">\n",
       "  <thead>\n",
       "    <tr style=\"text-align: right;\">\n",
       "      <th></th>\n",
       "      <th>gender</th>\n",
       "      <th>age</th>\n",
       "      <th>hypertension</th>\n",
       "      <th>heart_disease</th>\n",
       "      <th>ever_married</th>\n",
       "      <th>work_type</th>\n",
       "      <th>Residence_type</th>\n",
       "      <th>avg_glucose_level</th>\n",
       "      <th>bmi</th>\n",
       "      <th>smoking_status</th>\n",
       "      <th>stroke</th>\n",
       "    </tr>\n",
       "  </thead>\n",
       "  <tbody>\n",
       "    <tr>\n",
       "      <th>0</th>\n",
       "      <td>1</td>\n",
       "      <td>67.0</td>\n",
       "      <td>0</td>\n",
       "      <td>1</td>\n",
       "      <td>1</td>\n",
       "      <td>Private</td>\n",
       "      <td>1</td>\n",
       "      <td>228.69</td>\n",
       "      <td>36.6</td>\n",
       "      <td>formerly smoked</td>\n",
       "      <td>1</td>\n",
       "    </tr>\n",
       "    <tr>\n",
       "      <th>1</th>\n",
       "      <td>1</td>\n",
       "      <td>80.0</td>\n",
       "      <td>0</td>\n",
       "      <td>1</td>\n",
       "      <td>1</td>\n",
       "      <td>Private</td>\n",
       "      <td>0</td>\n",
       "      <td>105.92</td>\n",
       "      <td>32.5</td>\n",
       "      <td>never smoked</td>\n",
       "      <td>1</td>\n",
       "    </tr>\n",
       "    <tr>\n",
       "      <th>2</th>\n",
       "      <td>0</td>\n",
       "      <td>49.0</td>\n",
       "      <td>0</td>\n",
       "      <td>0</td>\n",
       "      <td>1</td>\n",
       "      <td>Private</td>\n",
       "      <td>1</td>\n",
       "      <td>171.23</td>\n",
       "      <td>34.4</td>\n",
       "      <td>smokes</td>\n",
       "      <td>1</td>\n",
       "    </tr>\n",
       "    <tr>\n",
       "      <th>3</th>\n",
       "      <td>0</td>\n",
       "      <td>79.0</td>\n",
       "      <td>1</td>\n",
       "      <td>0</td>\n",
       "      <td>1</td>\n",
       "      <td>Self-employed</td>\n",
       "      <td>0</td>\n",
       "      <td>174.12</td>\n",
       "      <td>24.0</td>\n",
       "      <td>never smoked</td>\n",
       "      <td>1</td>\n",
       "    </tr>\n",
       "    <tr>\n",
       "      <th>4</th>\n",
       "      <td>1</td>\n",
       "      <td>81.0</td>\n",
       "      <td>0</td>\n",
       "      <td>0</td>\n",
       "      <td>1</td>\n",
       "      <td>Private</td>\n",
       "      <td>1</td>\n",
       "      <td>186.21</td>\n",
       "      <td>29.0</td>\n",
       "      <td>formerly smoked</td>\n",
       "      <td>1</td>\n",
       "    </tr>\n",
       "  </tbody>\n",
       "</table>\n",
       "</div>"
      ],
      "text/plain": [
       "   gender   age  hypertension  heart_disease  ever_married      work_type  \\\n",
       "0       1  67.0             0              1             1        Private   \n",
       "1       1  80.0             0              1             1        Private   \n",
       "2       0  49.0             0              0             1        Private   \n",
       "3       0  79.0             1              0             1  Self-employed   \n",
       "4       1  81.0             0              0             1        Private   \n",
       "\n",
       "   Residence_type  avg_glucose_level   bmi   smoking_status  stroke  \n",
       "0               1             228.69  36.6  formerly smoked       1  \n",
       "1               0             105.92  32.5     never smoked       1  \n",
       "2               1             171.23  34.4           smokes       1  \n",
       "3               0             174.12  24.0     never smoked       1  \n",
       "4               1             186.21  29.0  formerly smoked       1  "
      ]
     },
     "execution_count": 10,
     "metadata": {},
     "output_type": "execute_result"
    }
   ],
   "source": [
    "df.head()"
   ]
  },
  {
   "cell_type": "code",
   "execution_count": 11,
   "id": "5224fda7",
   "metadata": {
    "execution": {
     "iopub.execute_input": "2022-09-09T19:52:41.383854Z",
     "iopub.status.busy": "2022-09-09T19:52:41.383406Z",
     "iopub.status.idle": "2022-09-09T19:52:41.409330Z",
     "shell.execute_reply": "2022-09-09T19:52:41.408454Z"
    },
    "papermill": {
     "duration": 0.041907,
     "end_time": "2022-09-09T19:52:41.411655",
     "exception": false,
     "start_time": "2022-09-09T19:52:41.369748",
     "status": "completed"
    },
    "tags": []
   },
   "outputs": [
    {
     "data": {
      "text/html": [
       "<div>\n",
       "<style scoped>\n",
       "    .dataframe tbody tr th:only-of-type {\n",
       "        vertical-align: middle;\n",
       "    }\n",
       "\n",
       "    .dataframe tbody tr th {\n",
       "        vertical-align: top;\n",
       "    }\n",
       "\n",
       "    .dataframe thead th {\n",
       "        text-align: right;\n",
       "    }\n",
       "</style>\n",
       "<table border=\"1\" class=\"dataframe\">\n",
       "  <thead>\n",
       "    <tr style=\"text-align: right;\">\n",
       "      <th></th>\n",
       "      <th>gender</th>\n",
       "      <th>age</th>\n",
       "      <th>hypertension</th>\n",
       "      <th>heart_disease</th>\n",
       "      <th>ever_married</th>\n",
       "      <th>Residence_type</th>\n",
       "      <th>avg_glucose_level</th>\n",
       "      <th>bmi</th>\n",
       "      <th>stroke</th>\n",
       "      <th>work_type_Govt_job</th>\n",
       "      <th>work_type_Private</th>\n",
       "      <th>work_type_Self-employed</th>\n",
       "      <th>work_type_children</th>\n",
       "      <th>smoking_status_Unknown</th>\n",
       "      <th>smoking_status_formerly smoked</th>\n",
       "      <th>smoking_status_never smoked</th>\n",
       "      <th>smoking_status_smokes</th>\n",
       "    </tr>\n",
       "  </thead>\n",
       "  <tbody>\n",
       "    <tr>\n",
       "      <th>0</th>\n",
       "      <td>1</td>\n",
       "      <td>67.0</td>\n",
       "      <td>0</td>\n",
       "      <td>1</td>\n",
       "      <td>1</td>\n",
       "      <td>1</td>\n",
       "      <td>228.69</td>\n",
       "      <td>36.6</td>\n",
       "      <td>1</td>\n",
       "      <td>0</td>\n",
       "      <td>1</td>\n",
       "      <td>0</td>\n",
       "      <td>0</td>\n",
       "      <td>0</td>\n",
       "      <td>1</td>\n",
       "      <td>0</td>\n",
       "      <td>0</td>\n",
       "    </tr>\n",
       "    <tr>\n",
       "      <th>1</th>\n",
       "      <td>1</td>\n",
       "      <td>80.0</td>\n",
       "      <td>0</td>\n",
       "      <td>1</td>\n",
       "      <td>1</td>\n",
       "      <td>0</td>\n",
       "      <td>105.92</td>\n",
       "      <td>32.5</td>\n",
       "      <td>1</td>\n",
       "      <td>0</td>\n",
       "      <td>1</td>\n",
       "      <td>0</td>\n",
       "      <td>0</td>\n",
       "      <td>0</td>\n",
       "      <td>0</td>\n",
       "      <td>1</td>\n",
       "      <td>0</td>\n",
       "    </tr>\n",
       "    <tr>\n",
       "      <th>2</th>\n",
       "      <td>0</td>\n",
       "      <td>49.0</td>\n",
       "      <td>0</td>\n",
       "      <td>0</td>\n",
       "      <td>1</td>\n",
       "      <td>1</td>\n",
       "      <td>171.23</td>\n",
       "      <td>34.4</td>\n",
       "      <td>1</td>\n",
       "      <td>0</td>\n",
       "      <td>1</td>\n",
       "      <td>0</td>\n",
       "      <td>0</td>\n",
       "      <td>0</td>\n",
       "      <td>0</td>\n",
       "      <td>0</td>\n",
       "      <td>1</td>\n",
       "    </tr>\n",
       "    <tr>\n",
       "      <th>3</th>\n",
       "      <td>0</td>\n",
       "      <td>79.0</td>\n",
       "      <td>1</td>\n",
       "      <td>0</td>\n",
       "      <td>1</td>\n",
       "      <td>0</td>\n",
       "      <td>174.12</td>\n",
       "      <td>24.0</td>\n",
       "      <td>1</td>\n",
       "      <td>0</td>\n",
       "      <td>0</td>\n",
       "      <td>1</td>\n",
       "      <td>0</td>\n",
       "      <td>0</td>\n",
       "      <td>0</td>\n",
       "      <td>1</td>\n",
       "      <td>0</td>\n",
       "    </tr>\n",
       "    <tr>\n",
       "      <th>4</th>\n",
       "      <td>1</td>\n",
       "      <td>81.0</td>\n",
       "      <td>0</td>\n",
       "      <td>0</td>\n",
       "      <td>1</td>\n",
       "      <td>1</td>\n",
       "      <td>186.21</td>\n",
       "      <td>29.0</td>\n",
       "      <td>1</td>\n",
       "      <td>0</td>\n",
       "      <td>1</td>\n",
       "      <td>0</td>\n",
       "      <td>0</td>\n",
       "      <td>0</td>\n",
       "      <td>1</td>\n",
       "      <td>0</td>\n",
       "      <td>0</td>\n",
       "    </tr>\n",
       "  </tbody>\n",
       "</table>\n",
       "</div>"
      ],
      "text/plain": [
       "   gender   age  hypertension  heart_disease  ever_married  Residence_type  \\\n",
       "0       1  67.0             0              1             1               1   \n",
       "1       1  80.0             0              1             1               0   \n",
       "2       0  49.0             0              0             1               1   \n",
       "3       0  79.0             1              0             1               0   \n",
       "4       1  81.0             0              0             1               1   \n",
       "\n",
       "   avg_glucose_level   bmi  stroke  work_type_Govt_job  work_type_Private  \\\n",
       "0             228.69  36.6       1                   0                  1   \n",
       "1             105.92  32.5       1                   0                  1   \n",
       "2             171.23  34.4       1                   0                  1   \n",
       "3             174.12  24.0       1                   0                  0   \n",
       "4             186.21  29.0       1                   0                  1   \n",
       "\n",
       "   work_type_Self-employed  work_type_children  smoking_status_Unknown  \\\n",
       "0                        0                   0                       0   \n",
       "1                        0                   0                       0   \n",
       "2                        0                   0                       0   \n",
       "3                        1                   0                       0   \n",
       "4                        0                   0                       0   \n",
       "\n",
       "   smoking_status_formerly smoked  smoking_status_never smoked  \\\n",
       "0                               1                            0   \n",
       "1                               0                            1   \n",
       "2                               0                            0   \n",
       "3                               0                            1   \n",
       "4                               1                            0   \n",
       "\n",
       "   smoking_status_smokes  \n",
       "0                      0  \n",
       "1                      0  \n",
       "2                      1  \n",
       "3                      0  \n",
       "4                      0  "
      ]
     },
     "execution_count": 11,
     "metadata": {},
     "output_type": "execute_result"
    }
   ],
   "source": [
    "data=pd.get_dummies(df, columns=['work_type', 'smoking_status'])\n",
    "data.head()"
   ]
  },
  {
   "cell_type": "code",
   "execution_count": 12,
   "id": "a7cffd78",
   "metadata": {
    "execution": {
     "iopub.execute_input": "2022-09-09T19:52:41.438221Z",
     "iopub.status.busy": "2022-09-09T19:52:41.437483Z",
     "iopub.status.idle": "2022-09-09T19:52:41.443361Z",
     "shell.execute_reply": "2022-09-09T19:52:41.442545Z"
    },
    "papermill": {
     "duration": 0.021678,
     "end_time": "2022-09-09T19:52:41.445509",
     "exception": false,
     "start_time": "2022-09-09T19:52:41.423831",
     "status": "completed"
    },
    "tags": []
   },
   "outputs": [
    {
     "data": {
      "text/plain": [
       "(4981, 17)"
      ]
     },
     "execution_count": 12,
     "metadata": {},
     "output_type": "execute_result"
    }
   ],
   "source": [
    "data.shape"
   ]
  },
  {
   "cell_type": "code",
   "execution_count": 13,
   "id": "e63a9da9",
   "metadata": {
    "execution": {
     "iopub.execute_input": "2022-09-09T19:52:41.472261Z",
     "iopub.status.busy": "2022-09-09T19:52:41.471566Z",
     "iopub.status.idle": "2022-09-09T19:52:41.495553Z",
     "shell.execute_reply": "2022-09-09T19:52:41.494400Z"
    },
    "papermill": {
     "duration": 0.039932,
     "end_time": "2022-09-09T19:52:41.497803",
     "exception": false,
     "start_time": "2022-09-09T19:52:41.457871",
     "status": "completed"
    },
    "tags": []
   },
   "outputs": [
    {
     "name": "stdout",
     "output_type": "stream",
     "text": [
      "(4981, 16)\n",
      "(4981,)\n"
     ]
    }
   ],
   "source": [
    "from sklearn.model_selection import train_test_split\n",
    "X=data.drop(columns=['stroke'])\n",
    "Y=data['stroke']\n",
    "print(X.shape)\n",
    "print(Y.shape)"
   ]
  },
  {
   "cell_type": "code",
   "execution_count": 14,
   "id": "64783d4a",
   "metadata": {
    "execution": {
     "iopub.execute_input": "2022-09-09T19:52:41.532877Z",
     "iopub.status.busy": "2022-09-09T19:52:41.532075Z",
     "iopub.status.idle": "2022-09-09T19:52:41.544330Z",
     "shell.execute_reply": "2022-09-09T19:52:41.543494Z"
    },
    "papermill": {
     "duration": 0.034555,
     "end_time": "2022-09-09T19:52:41.547328",
     "exception": false,
     "start_time": "2022-09-09T19:52:41.512773",
     "status": "completed"
    },
    "tags": []
   },
   "outputs": [
    {
     "data": {
      "text/plain": [
       "0    0.950211\n",
       "1    0.049789\n",
       "Name: stroke, dtype: float64"
      ]
     },
     "execution_count": 14,
     "metadata": {},
     "output_type": "execute_result"
    }
   ],
   "source": [
    "Y.value_counts(normalize=True)  # This is imbalanced dataset"
   ]
  },
  {
   "cell_type": "code",
   "execution_count": 15,
   "id": "d4b3b463",
   "metadata": {
    "execution": {
     "iopub.execute_input": "2022-09-09T19:52:41.580147Z",
     "iopub.status.busy": "2022-09-09T19:52:41.579228Z",
     "iopub.status.idle": "2022-09-09T19:52:41.799855Z",
     "shell.execute_reply": "2022-09-09T19:52:41.798518Z"
    },
    "papermill": {
     "duration": 0.24043,
     "end_time": "2022-09-09T19:52:41.802914",
     "exception": false,
     "start_time": "2022-09-09T19:52:41.562484",
     "status": "completed"
    },
    "tags": []
   },
   "outputs": [
    {
     "data": {
      "text/plain": [
       "<AxesSubplot:>"
      ]
     },
     "execution_count": 15,
     "metadata": {},
     "output_type": "execute_result"
    },
    {
     "data": {
      "image/png": "[encoded data removed]",
      "text/plain": [
       "<Figure size 432x288 with 1 Axes>"
      ]
     },
     "metadata": {
      "needs_background": "light"
     },
     "output_type": "display_data"
    }
   ],
   "source": [
    "Y.value_counts().plot(kind='bar')"
   ]
  },
  {
   "cell_type": "code",
   "execution_count": 16,
   "id": "90a7b4f2",
   "metadata": {
    "execution": {
     "iopub.execute_input": "2022-09-09T19:52:41.835667Z",
     "iopub.status.busy": "2022-09-09T19:52:41.834633Z",
     "iopub.status.idle": "2022-09-09T19:52:41.845250Z",
     "shell.execute_reply": "2022-09-09T19:52:41.844021Z"
    },
    "papermill": {
     "duration": 0.028129,
     "end_time": "2022-09-09T19:52:41.847825",
     "exception": false,
     "start_time": "2022-09-09T19:52:41.819696",
     "status": "completed"
    },
    "tags": []
   },
   "outputs": [
    {
     "name": "stdout",
     "output_type": "stream",
     "text": [
      "(3984, 16)\n",
      "(997, 16)\n"
     ]
    }
   ],
   "source": [
    "X_train, X_test, Y_train, Y_test = train_test_split(X, Y, test_size=0.2, random_state=0)\n",
    "print(X_train.shape)\n",
    "print(X_test.shape)"
   ]
  },
  {
   "cell_type": "code",
   "execution_count": 17,
   "id": "23653c9f",
   "metadata": {
    "execution": {
     "iopub.execute_input": "2022-09-09T19:52:41.879014Z",
     "iopub.status.busy": "2022-09-09T19:52:41.878193Z",
     "iopub.status.idle": "2022-09-09T19:52:41.887974Z",
     "shell.execute_reply": "2022-09-09T19:52:41.886101Z"
    },
    "papermill": {
     "duration": 0.029003,
     "end_time": "2022-09-09T19:52:41.890559",
     "exception": false,
     "start_time": "2022-09-09T19:52:41.861556",
     "status": "completed"
    },
    "tags": []
   },
   "outputs": [
    {
     "data": {
      "text/plain": [
       "0    3786\n",
       "1     198\n",
       "Name: stroke, dtype: int64"
      ]
     },
     "execution_count": 17,
     "metadata": {},
     "output_type": "execute_result"
    }
   ],
   "source": [
    "Y_train.value_counts()"
   ]
  },
  {
   "cell_type": "code",
   "execution_count": 18,
   "id": "666655a0",
   "metadata": {
    "execution": {
     "iopub.execute_input": "2022-09-09T19:52:41.928129Z",
     "iopub.status.busy": "2022-09-09T19:52:41.926770Z",
     "iopub.status.idle": "2022-09-09T19:52:41.936907Z",
     "shell.execute_reply": "2022-09-09T19:52:41.935477Z"
    },
    "papermill": {
     "duration": 0.030614,
     "end_time": "2022-09-09T19:52:41.939815",
     "exception": false,
     "start_time": "2022-09-09T19:52:41.909201",
     "status": "completed"
    },
    "tags": []
   },
   "outputs": [
    {
     "data": {
      "text/plain": [
       "0    947\n",
       "1     50\n",
       "Name: stroke, dtype: int64"
      ]
     },
     "execution_count": 18,
     "metadata": {},
     "output_type": "execute_result"
    }
   ],
   "source": [
    "Y_test.value_counts()"
   ]
  },
  {
   "cell_type": "code",
   "execution_count": 19,
   "id": "ab1c2ea6",
   "metadata": {
    "execution": {
     "iopub.execute_input": "2022-09-09T19:52:41.971071Z",
     "iopub.status.busy": "2022-09-09T19:52:41.969622Z",
     "iopub.status.idle": "2022-09-09T19:52:42.300263Z",
     "shell.execute_reply": "2022-09-09T19:52:42.298472Z"
    },
    "papermill": {
     "duration": 0.350147,
     "end_time": "2022-09-09T19:52:42.305287",
     "exception": false,
     "start_time": "2022-09-09T19:52:41.955140",
     "status": "completed"
    },
    "tags": []
   },
   "outputs": [
    {
     "name": "stderr",
     "output_type": "stream",
     "text": [
      "/opt/conda/lib/python3.7/site-packages/sklearn/linear_model/_logistic.py:818: ConvergenceWarning: lbfgs failed to converge (status=1):\n",
      "STOP: TOTAL NO. of ITERATIONS REACHED LIMIT.\n",
      "\n",
      "Increase the number of iterations (max_iter) or scale the data as shown in:\n",
      "    https://scikit-learn.org/stable/modules/preprocessing.html\n",
      "Please also refer to the documentation for alternative solver options:\n",
      "    https://scikit-learn.org/stable/modules/linear_model.html#logistic-regression\n",
      "  extra_warning_msg=_LOGISTIC_SOLVER_CONVERGENCE_MSG,\n"
     ]
    },
    {
     "data": {
      "text/plain": [
       "LogisticRegression()"
      ]
     },
     "execution_count": 19,
     "metadata": {},
     "output_type": "execute_result"
    }
   ],
   "source": [
    "from sklearn.linear_model import LogisticRegression\n",
    "model1=LogisticRegression()\n",
    "model1.fit(X_train, Y_train)\n"
   ]
  },
  {
   "cell_type": "code",
   "execution_count": 20,
   "id": "3293b580",
   "metadata": {
    "execution": {
     "iopub.execute_input": "2022-09-09T19:52:42.408929Z",
     "iopub.status.busy": "2022-09-09T19:52:42.408358Z",
     "iopub.status.idle": "2022-09-09T19:52:42.426960Z",
     "shell.execute_reply": "2022-09-09T19:52:42.425466Z"
    },
    "papermill": {
     "duration": 0.06664,
     "end_time": "2022-09-09T19:52:42.434792",
     "exception": false,
     "start_time": "2022-09-09T19:52:42.368152",
     "status": "completed"
    },
    "tags": []
   },
   "outputs": [
    {
     "data": {
      "text/plain": [
       "0.9505522088353414"
      ]
     },
     "execution_count": 20,
     "metadata": {},
     "output_type": "execute_result"
    }
   ],
   "source": [
    "y_train_pred=model1.predict(X_train)\n",
    "train_accuracy=accuracy_score(Y_train,y_train_pred)\n",
    "train_accuracy"
   ]
  },
  {
   "cell_type": "code",
   "execution_count": 21,
   "id": "a723312e",
   "metadata": {
    "execution": {
     "iopub.execute_input": "2022-09-09T19:52:42.527560Z",
     "iopub.status.busy": "2022-09-09T19:52:42.526881Z",
     "iopub.status.idle": "2022-09-09T19:52:42.540901Z",
     "shell.execute_reply": "2022-09-09T19:52:42.539804Z"
    },
    "papermill": {
     "duration": 0.053219,
     "end_time": "2022-09-09T19:52:42.543314",
     "exception": false,
     "start_time": "2022-09-09T19:52:42.490095",
     "status": "completed"
    },
    "tags": []
   },
   "outputs": [
    {
     "data": {
      "text/plain": [
       "array([[3786,    0],\n",
       "       [ 197,    1]])"
      ]
     },
     "execution_count": 21,
     "metadata": {},
     "output_type": "execute_result"
    }
   ],
   "source": [
    "confusion_matrix(Y_train, y_train_pred)"
   ]
  },
  {
   "cell_type": "markdown",
   "id": "00a535e8",
   "metadata": {
    "papermill": {
     "duration": 0.012925,
     "end_time": "2022-09-09T19:52:42.569794",
     "exception": false,
     "start_time": "2022-09-09T19:52:42.556869",
     "status": "completed"
    },
    "tags": []
   },
   "source": [
    "True Positive Rate 100% but True Negative rate is 0.5% very low. Our interest on the minority class so the accuracy_score is not a good metric for the imbalanced data set."
   ]
  },
  {
   "cell_type": "code",
   "execution_count": 22,
   "id": "a5959581",
   "metadata": {
    "execution": {
     "iopub.execute_input": "2022-09-09T19:52:42.598440Z",
     "iopub.status.busy": "2022-09-09T19:52:42.597728Z",
     "iopub.status.idle": "2022-09-09T19:52:42.613640Z",
     "shell.execute_reply": "2022-09-09T19:52:42.612162Z"
    },
    "papermill": {
     "duration": 0.035268,
     "end_time": "2022-09-09T19:52:42.618219",
     "exception": false,
     "start_time": "2022-09-09T19:52:42.582951",
     "status": "completed"
    },
    "tags": []
   },
   "outputs": [
    {
     "data": {
      "text/plain": [
       "0.9498495486459378"
      ]
     },
     "execution_count": 22,
     "metadata": {},
     "output_type": "execute_result"
    }
   ],
   "source": [
    "y_test_pred=model1.predict(X_test)\n",
    "test_accuracy=accuracy_score(Y_test, y_test_pred)\n",
    "test_accuracy"
   ]
  },
  {
   "cell_type": "code",
   "execution_count": 23,
   "id": "829304b9",
   "metadata": {
    "execution": {
     "iopub.execute_input": "2022-09-09T19:52:42.688880Z",
     "iopub.status.busy": "2022-09-09T19:52:42.688223Z",
     "iopub.status.idle": "2022-09-09T19:52:42.705894Z",
     "shell.execute_reply": "2022-09-09T19:52:42.704446Z"
    },
    "papermill": {
     "duration": 0.058132,
     "end_time": "2022-09-09T19:52:42.710350",
     "exception": false,
     "start_time": "2022-09-09T19:52:42.652218",
     "status": "completed"
    },
    "tags": []
   },
   "outputs": [
    {
     "data": {
      "text/plain": [
       "array([[947,   0],\n",
       "       [ 50,   0]])"
      ]
     },
     "execution_count": 23,
     "metadata": {},
     "output_type": "execute_result"
    }
   ],
   "source": [
    "confusion_matrix(Y_test, y_test_pred)"
   ]
  },
  {
   "cell_type": "code",
   "execution_count": 24,
   "id": "2b30012b",
   "metadata": {
    "execution": {
     "iopub.execute_input": "2022-09-09T19:52:42.750035Z",
     "iopub.status.busy": "2022-09-09T19:52:42.749635Z",
     "iopub.status.idle": "2022-09-09T19:52:42.853958Z",
     "shell.execute_reply": "2022-09-09T19:52:42.852499Z"
    },
    "papermill": {
     "duration": 0.122872,
     "end_time": "2022-09-09T19:52:42.856471",
     "exception": false,
     "start_time": "2022-09-09T19:52:42.733599",
     "status": "completed"
    },
    "tags": []
   },
   "outputs": [
    {
     "data": {
      "text/plain": [
       "DecisionTreeClassifier(max_depth=10)"
      ]
     },
     "execution_count": 24,
     "metadata": {},
     "output_type": "execute_result"
    }
   ],
   "source": [
    "from sklearn.tree import DecisionTreeClassifier \n",
    "model=DecisionTreeClassifier(max_depth=10)\n",
    "model.fit(X_train, Y_train)"
   ]
  },
  {
   "cell_type": "code",
   "execution_count": 25,
   "id": "9d796c34",
   "metadata": {
    "execution": {
     "iopub.execute_input": "2022-09-09T19:52:42.885967Z",
     "iopub.status.busy": "2022-09-09T19:52:42.885559Z",
     "iopub.status.idle": "2022-09-09T19:52:42.898075Z",
     "shell.execute_reply": "2022-09-09T19:52:42.896836Z"
    },
    "papermill": {
     "duration": 0.030612,
     "end_time": "2022-09-09T19:52:42.900682",
     "exception": false,
     "start_time": "2022-09-09T19:52:42.870070",
     "status": "completed"
    },
    "tags": []
   },
   "outputs": [
    {
     "data": {
      "text/plain": [
       "0.9754016064257028"
      ]
     },
     "execution_count": 25,
     "metadata": {},
     "output_type": "execute_result"
    }
   ],
   "source": [
    "y_train_pred=model.predict(X_train)\n",
    "y_train_accuracy=accuracy_score(Y_train, y_train_pred)\n",
    "y_train_accuracy"
   ]
  },
  {
   "cell_type": "code",
   "execution_count": 26,
   "id": "5a903463",
   "metadata": {
    "execution": {
     "iopub.execute_input": "2022-09-09T19:52:42.930222Z",
     "iopub.status.busy": "2022-09-09T19:52:42.929807Z",
     "iopub.status.idle": "2022-09-09T19:52:42.940578Z",
     "shell.execute_reply": "2022-09-09T19:52:42.939481Z"
    },
    "papermill": {
     "duration": 0.028147,
     "end_time": "2022-09-09T19:52:42.942848",
     "exception": false,
     "start_time": "2022-09-09T19:52:42.914701",
     "status": "completed"
    },
    "tags": []
   },
   "outputs": [
    {
     "data": {
      "text/plain": [
       "0.9187562688064193"
      ]
     },
     "execution_count": 26,
     "metadata": {},
     "output_type": "execute_result"
    }
   ],
   "source": [
    "y_test_pred=model.predict(X_test)\n",
    "y_test_accuracy=accuracy_score(Y_test, y_test_pred)\n",
    "y_test_accuracy"
   ]
  },
  {
   "cell_type": "code",
   "execution_count": 27,
   "id": "14bc7acd",
   "metadata": {
    "execution": {
     "iopub.execute_input": "2022-09-09T19:52:42.972349Z",
     "iopub.status.busy": "2022-09-09T19:52:42.971821Z",
     "iopub.status.idle": "2022-09-09T19:52:43.207332Z",
     "shell.execute_reply": "2022-09-09T19:52:43.205862Z"
    },
    "papermill": {
     "duration": 0.259507,
     "end_time": "2022-09-09T19:52:43.216243",
     "exception": false,
     "start_time": "2022-09-09T19:52:42.956736",
     "status": "completed"
    },
    "tags": []
   },
   "outputs": [
    {
     "data": {
      "text/plain": [
       "1    4733\n",
       "0    4733\n",
       "Name: stroke, dtype: int64"
      ]
     },
     "execution_count": 27,
     "metadata": {},
     "output_type": "execute_result"
    }
   ],
   "source": [
    "from imblearn.over_sampling import SMOTE\n",
    "smote=SMOTE(random_state=1)\n",
    "X_resample, Y_resample=smote.fit_resample(X, Y)\n",
    "Y_resample.value_counts()"
   ]
  },
  {
   "cell_type": "code",
   "execution_count": 28,
   "id": "cf435c7a",
   "metadata": {
    "execution": {
     "iopub.execute_input": "2022-09-09T19:52:43.293948Z",
     "iopub.status.busy": "2022-09-09T19:52:43.293245Z",
     "iopub.status.idle": "2022-09-09T19:52:43.302577Z",
     "shell.execute_reply": "2022-09-09T19:52:43.301703Z"
    },
    "papermill": {
     "duration": 0.050458,
     "end_time": "2022-09-09T19:52:43.305029",
     "exception": false,
     "start_time": "2022-09-09T19:52:43.254571",
     "status": "completed"
    },
    "tags": []
   },
   "outputs": [],
   "source": [
    "X_train, X_test, Y_train, Y_test = train_test_split(X_resample, Y_resample, test_size=0.2, random_state=1)"
   ]
  },
  {
   "cell_type": "code",
   "execution_count": 29,
   "id": "f8df422b",
   "metadata": {
    "execution": {
     "iopub.execute_input": "2022-09-09T19:52:43.334362Z",
     "iopub.status.busy": "2022-09-09T19:52:43.333565Z",
     "iopub.status.idle": "2022-09-09T19:52:43.525924Z",
     "shell.execute_reply": "2022-09-09T19:52:43.524528Z"
    },
    "papermill": {
     "duration": 0.215642,
     "end_time": "2022-09-09T19:52:43.534244",
     "exception": false,
     "start_time": "2022-09-09T19:52:43.318602",
     "status": "completed"
    },
    "tags": []
   },
   "outputs": [
    {
     "name": "stderr",
     "output_type": "stream",
     "text": [
      "/opt/conda/lib/python3.7/site-packages/sklearn/linear_model/_logistic.py:818: ConvergenceWarning: lbfgs failed to converge (status=1):\n",
      "STOP: TOTAL NO. of ITERATIONS REACHED LIMIT.\n",
      "\n",
      "Increase the number of iterations (max_iter) or scale the data as shown in:\n",
      "    https://scikit-learn.org/stable/modules/preprocessing.html\n",
      "Please also refer to the documentation for alternative solver options:\n",
      "    https://scikit-learn.org/stable/modules/linear_model.html#logistic-regression\n",
      "  extra_warning_msg=_LOGISTIC_SOLVER_CONVERGENCE_MSG,\n"
     ]
    },
    {
     "data": {
      "text/plain": [
       "LogisticRegression()"
      ]
     },
     "execution_count": 29,
     "metadata": {},
     "output_type": "execute_result"
    }
   ],
   "source": [
    "model=LogisticRegression()\n",
    "model.fit(X_train, Y_train)\n"
   ]
  },
  {
   "cell_type": "code",
   "execution_count": 30,
   "id": "46980b59",
   "metadata": {
    "execution": {
     "iopub.execute_input": "2022-09-09T19:52:43.608923Z",
     "iopub.status.busy": "2022-09-09T19:52:43.608202Z",
     "iopub.status.idle": "2022-09-09T19:52:43.631338Z",
     "shell.execute_reply": "2022-09-09T19:52:43.629648Z"
    },
    "papermill": {
     "duration": 0.065649,
     "end_time": "2022-09-09T19:52:43.636146",
     "exception": false,
     "start_time": "2022-09-09T19:52:43.570497",
     "status": "completed"
    },
    "tags": []
   },
   "outputs": [
    {
     "name": "stdout",
     "output_type": "stream",
     "text": [
      "0.9193079767564712\n"
     ]
    }
   ],
   "source": [
    "y_train_pred=model.predict(X_train)\n",
    "train_accuracy=accuracy_score(Y_train, y_train_pred)\n",
    "print(train_accuracy)"
   ]
  },
  {
   "cell_type": "code",
   "execution_count": 31,
   "id": "02ebbb17",
   "metadata": {
    "execution": {
     "iopub.execute_input": "2022-09-09T19:52:43.712705Z",
     "iopub.status.busy": "2022-09-09T19:52:43.712004Z",
     "iopub.status.idle": "2022-09-09T19:52:43.727278Z",
     "shell.execute_reply": "2022-09-09T19:52:43.725796Z"
    },
    "papermill": {
     "duration": 0.058184,
     "end_time": "2022-09-09T19:52:43.731378",
     "exception": false,
     "start_time": "2022-09-09T19:52:43.673194",
     "status": "completed"
    },
    "tags": []
   },
   "outputs": [
    {
     "data": {
      "text/plain": [
       "array([[3585,  190],\n",
       "       [ 421, 3376]])"
      ]
     },
     "execution_count": 31,
     "metadata": {},
     "output_type": "execute_result"
    }
   ],
   "source": [
    "confusion_matrix(Y_train, y_train_pred)"
   ]
  },
  {
   "cell_type": "code",
   "execution_count": 32,
   "id": "19e30313",
   "metadata": {
    "execution": {
     "iopub.execute_input": "2022-09-09T19:52:43.770225Z",
     "iopub.status.busy": "2022-09-09T19:52:43.768985Z",
     "iopub.status.idle": "2022-09-09T19:52:43.781865Z",
     "shell.execute_reply": "2022-09-09T19:52:43.780212Z"
    },
    "papermill": {
     "duration": 0.034324,
     "end_time": "2022-09-09T19:52:43.788235",
     "exception": false,
     "start_time": "2022-09-09T19:52:43.753911",
     "status": "completed"
    },
    "tags": []
   },
   "outputs": [
    {
     "name": "stdout",
     "output_type": "stream",
     "text": [
      "0.9076029567053854\n"
     ]
    }
   ],
   "source": [
    "y_test_pred=model.predict(X_test)\n",
    "test_accuracy=accuracy_score(Y_test, y_test_pred)\n",
    "print(test_accuracy)"
   ]
  },
  {
   "cell_type": "code",
   "execution_count": 33,
   "id": "1a4a6b0b",
   "metadata": {
    "execution": {
     "iopub.execute_input": "2022-09-09T19:52:43.868897Z",
     "iopub.status.busy": "2022-09-09T19:52:43.868202Z",
     "iopub.status.idle": "2022-09-09T19:52:43.881620Z",
     "shell.execute_reply": "2022-09-09T19:52:43.880099Z"
    },
    "papermill": {
     "duration": 0.061127,
     "end_time": "2022-09-09T19:52:43.885898",
     "exception": false,
     "start_time": "2022-09-09T19:52:43.824771",
     "status": "completed"
    },
    "tags": []
   },
   "outputs": [
    {
     "data": {
      "text/plain": [
       "array([[895,  63],\n",
       "       [112, 824]])"
      ]
     },
     "execution_count": 33,
     "metadata": {},
     "output_type": "execute_result"
    }
   ],
   "source": [
    "confusion_matrix(Y_test, y_test_pred)"
   ]
  },
  {
   "cell_type": "code",
   "execution_count": 34,
   "id": "0a5a078c",
   "metadata": {
    "execution": {
     "iopub.execute_input": "2022-09-09T19:52:43.922708Z",
     "iopub.status.busy": "2022-09-09T19:52:43.922302Z",
     "iopub.status.idle": "2022-09-09T19:52:59.197318Z",
     "shell.execute_reply": "2022-09-09T19:52:59.196063Z"
    },
    "papermill": {
     "duration": 15.292763,
     "end_time": "2022-09-09T19:52:59.199605",
     "exception": false,
     "start_time": "2022-09-09T19:52:43.906842",
     "status": "completed"
    },
    "tags": []
   },
   "outputs": [
    {
     "data": {
      "text/plain": [
       "SVC(kernel='linear', random_state=1)"
      ]
     },
     "execution_count": 34,
     "metadata": {},
     "output_type": "execute_result"
    }
   ],
   "source": [
    "# Support Vector Machine\n",
    "from sklearn.svm import SVC\n",
    "model=SVC(kernel='linear', random_state=1)\n",
    "model.fit(X_train, Y_train)\n"
   ]
  },
  {
   "cell_type": "code",
   "execution_count": 35,
   "id": "4bb4577c",
   "metadata": {
    "execution": {
     "iopub.execute_input": "2022-09-09T19:52:59.230131Z",
     "iopub.status.busy": "2022-09-09T19:52:59.228861Z",
     "iopub.status.idle": "2022-09-09T19:52:59.524927Z",
     "shell.execute_reply": "2022-09-09T19:52:59.523865Z"
    },
    "papermill": {
     "duration": 0.313534,
     "end_time": "2022-09-09T19:52:59.527160",
     "exception": false,
     "start_time": "2022-09-09T19:52:59.213626",
     "status": "completed"
    },
    "tags": []
   },
   "outputs": [
    {
     "data": {
      "text/plain": [
       "0.9219492868462758"
      ]
     },
     "execution_count": 35,
     "metadata": {},
     "output_type": "execute_result"
    }
   ],
   "source": [
    "y_train_pred=model.predict(X_train)\n",
    "accuracy_score(Y_train,y_train_pred)"
   ]
  },
  {
   "cell_type": "code",
   "execution_count": 36,
   "id": "fdcf2baf",
   "metadata": {
    "execution": {
     "iopub.execute_input": "2022-09-09T19:52:59.558452Z",
     "iopub.status.busy": "2022-09-09T19:52:59.557832Z",
     "iopub.status.idle": "2022-09-09T19:52:59.638154Z",
     "shell.execute_reply": "2022-09-09T19:52:59.636880Z"
    },
    "papermill": {
     "duration": 0.099166,
     "end_time": "2022-09-09T19:52:59.640606",
     "exception": false,
     "start_time": "2022-09-09T19:52:59.541440",
     "status": "completed"
    },
    "tags": []
   },
   "outputs": [
    {
     "data": {
      "text/plain": [
       "0.9171066525871172"
      ]
     },
     "execution_count": 36,
     "metadata": {},
     "output_type": "execute_result"
    }
   ],
   "source": [
    "y_test_pred=model.predict(X_test)\n",
    "accuracy_score(Y_test, y_test_pred)"
   ]
  },
  {
   "cell_type": "code",
   "execution_count": 37,
   "id": "38aee916",
   "metadata": {
    "execution": {
     "iopub.execute_input": "2022-09-09T19:52:59.671920Z",
     "iopub.status.busy": "2022-09-09T19:52:59.670710Z",
     "iopub.status.idle": "2022-09-09T19:52:59.698289Z",
     "shell.execute_reply": "2022-09-09T19:52:59.697115Z"
    },
    "papermill": {
     "duration": 0.045893,
     "end_time": "2022-09-09T19:52:59.700956",
     "exception": false,
     "start_time": "2022-09-09T19:52:59.655063",
     "status": "completed"
    },
    "tags": []
   },
   "outputs": [
    {
     "data": {
      "text/plain": [
       "DecisionTreeClassifier(max_depth=5)"
      ]
     },
     "execution_count": 37,
     "metadata": {},
     "output_type": "execute_result"
    }
   ],
   "source": [
    "from sklearn.tree import DecisionTreeClassifier \n",
    "model=DecisionTreeClassifier(max_depth=5)\n",
    "model.fit(X_train, Y_train)"
   ]
  },
  {
   "cell_type": "code",
   "execution_count": 38,
   "id": "84c685f4",
   "metadata": {
    "execution": {
     "iopub.execute_input": "2022-09-09T19:52:59.733554Z",
     "iopub.status.busy": "2022-09-09T19:52:59.732530Z",
     "iopub.status.idle": "2022-09-09T19:52:59.744228Z",
     "shell.execute_reply": "2022-09-09T19:52:59.743447Z"
    },
    "papermill": {
     "duration": 0.02984,
     "end_time": "2022-09-09T19:52:59.746239",
     "exception": false,
     "start_time": "2022-09-09T19:52:59.716399",
     "status": "completed"
    },
    "tags": []
   },
   "outputs": [
    {
     "data": {
      "text/plain": [
       "0.8423137876386688"
      ]
     },
     "execution_count": 38,
     "metadata": {},
     "output_type": "execute_result"
    }
   ],
   "source": [
    "y_train_pred=model.predict(X_train)\n",
    "y_train_accuracy=accuracy_score(Y_train, y_train_pred)\n",
    "y_train_accuracy"
   ]
  },
  {
   "cell_type": "code",
   "execution_count": 39,
   "id": "a7a0e7ac",
   "metadata": {
    "execution": {
     "iopub.execute_input": "2022-09-09T19:52:59.777643Z",
     "iopub.status.busy": "2022-09-09T19:52:59.776912Z",
     "iopub.status.idle": "2022-09-09T19:52:59.787368Z",
     "shell.execute_reply": "2022-09-09T19:52:59.786398Z"
    },
    "papermill": {
     "duration": 0.028514,
     "end_time": "2022-09-09T19:52:59.789344",
     "exception": false,
     "start_time": "2022-09-09T19:52:59.760830",
     "status": "completed"
    },
    "tags": []
   },
   "outputs": [
    {
     "data": {
      "text/plain": [
       "0.8252375923970433"
      ]
     },
     "execution_count": 39,
     "metadata": {},
     "output_type": "execute_result"
    }
   ],
   "source": [
    "y_test_pred=model.predict(X_test)\n",
    "y_test_accuracy=accuracy_score(Y_test, y_test_pred)\n",
    "y_test_accuracy"
   ]
  },
  {
   "cell_type": "code",
   "execution_count": 40,
   "id": "2e8b9d92",
   "metadata": {
    "execution": {
     "iopub.execute_input": "2022-09-09T19:52:59.820557Z",
     "iopub.status.busy": "2022-09-09T19:52:59.820137Z",
     "iopub.status.idle": "2022-09-09T19:53:02.121783Z",
     "shell.execute_reply": "2022-09-09T19:53:02.120491Z"
    },
    "papermill": {
     "duration": 2.320407,
     "end_time": "2022-09-09T19:53:02.124427",
     "exception": false,
     "start_time": "2022-09-09T19:52:59.804020",
     "status": "completed"
    },
    "tags": []
   },
   "outputs": [
    {
     "data": {
      "image/png": "[encoded data removed]",
      "text/plain": [
       "<Figure size 432x288 with 1 Axes>"
      ]
     },
     "metadata": {
      "needs_background": "light"
     },
     "output_type": "display_data"
    }
   ],
   "source": [
    "from sklearn.tree import plot_tree\n",
    "from sklearn import tree\n",
    "tree.plot_tree(model)\n",
    "plt.show()"
   ]
  },
  {
   "cell_type": "code",
   "execution_count": 41,
   "id": "88230385",
   "metadata": {
    "execution": {
     "iopub.execute_input": "2022-09-09T19:53:02.158150Z",
     "iopub.status.busy": "2022-09-09T19:53:02.157297Z",
     "iopub.status.idle": "2022-09-09T19:53:02.949026Z",
     "shell.execute_reply": "2022-09-09T19:53:02.948191Z"
    },
    "papermill": {
     "duration": 0.811421,
     "end_time": "2022-09-09T19:53:02.951454",
     "exception": false,
     "start_time": "2022-09-09T19:53:02.140033",
     "status": "completed"
    },
    "tags": []
   },
   "outputs": [
    {
     "data": {
      "text/plain": [
       "RandomForestClassifier()"
      ]
     },
     "execution_count": 41,
     "metadata": {},
     "output_type": "execute_result"
    }
   ],
   "source": [
    "from sklearn.ensemble import RandomForestClassifier\n",
    "model=RandomForestClassifier()\n",
    "model.fit(X_train, Y_train)"
   ]
  },
  {
   "cell_type": "code",
   "execution_count": 42,
   "id": "935d5c54",
   "metadata": {
    "execution": {
     "iopub.execute_input": "2022-09-09T19:53:02.985180Z",
     "iopub.status.busy": "2022-09-09T19:53:02.983916Z",
     "iopub.status.idle": "2022-09-09T19:53:03.119810Z",
     "shell.execute_reply": "2022-09-09T19:53:03.118394Z"
    },
    "papermill": {
     "duration": 0.155647,
     "end_time": "2022-09-09T19:53:03.122689",
     "exception": false,
     "start_time": "2022-09-09T19:53:02.967042",
     "status": "completed"
    },
    "tags": []
   },
   "outputs": [
    {
     "data": {
      "text/plain": [
       "1.0"
      ]
     },
     "execution_count": 42,
     "metadata": {},
     "output_type": "execute_result"
    }
   ],
   "source": [
    "y_train_pred=model.predict(X_train)\n",
    "y_train_accuracy=accuracy_score(Y_train, y_train_pred)\n",
    "y_train_accuracy"
   ]
  },
  {
   "cell_type": "code",
   "execution_count": 43,
   "id": "e27e0ff9",
   "metadata": {
    "execution": {
     "iopub.execute_input": "2022-09-09T19:53:03.157812Z",
     "iopub.status.busy": "2022-09-09T19:53:03.156715Z",
     "iopub.status.idle": "2022-09-09T19:53:03.217293Z",
     "shell.execute_reply": "2022-09-09T19:53:03.216109Z"
    },
    "papermill": {
     "duration": 0.081592,
     "end_time": "2022-09-09T19:53:03.220506",
     "exception": false,
     "start_time": "2022-09-09T19:53:03.138914",
     "status": "completed"
    },
    "tags": []
   },
   "outputs": [
    {
     "data": {
      "text/plain": [
       "0.96779303062302"
      ]
     },
     "execution_count": 43,
     "metadata": {},
     "output_type": "execute_result"
    }
   ],
   "source": [
    "y_test_pred=model.predict(X_test)\n",
    "y_test_accuracy=accuracy_score(Y_test, y_test_pred)\n",
    "y_test_accuracy"
   ]
  },
  {
   "cell_type": "code",
   "execution_count": 44,
   "id": "a22beeeb",
   "metadata": {
    "execution": {
     "iopub.execute_input": "2022-09-09T19:53:03.254506Z",
     "iopub.status.busy": "2022-09-09T19:53:03.254043Z",
     "iopub.status.idle": "2022-09-09T19:53:04.287786Z",
     "shell.execute_reply": "2022-09-09T19:53:04.286492Z"
    },
    "papermill": {
     "duration": 1.05556,
     "end_time": "2022-09-09T19:53:04.291870",
     "exception": false,
     "start_time": "2022-09-09T19:53:03.236310",
     "status": "completed"
    },
    "tags": []
   },
   "outputs": [
    {
     "data": {
      "text/plain": [
       "GradientBoostingClassifier()"
      ]
     },
     "execution_count": 44,
     "metadata": {},
     "output_type": "execute_result"
    }
   ],
   "source": [
    "#XGBoosting\n",
    "from sklearn.ensemble import GradientBoostingClassifier\n",
    "model=GradientBoostingClassifier()\n",
    "model.fit(X_train,Y_train)\n"
   ]
  },
  {
   "cell_type": "code",
   "execution_count": 45,
   "id": "0c2cc09b",
   "metadata": {
    "execution": {
     "iopub.execute_input": "2022-09-09T19:53:04.325150Z",
     "iopub.status.busy": "2022-09-09T19:53:04.324119Z",
     "iopub.status.idle": "2022-09-09T19:53:04.350784Z",
     "shell.execute_reply": "2022-09-09T19:53:04.349599Z"
    },
    "papermill": {
     "duration": 0.045379,
     "end_time": "2022-09-09T19:53:04.352975",
     "exception": false,
     "start_time": "2022-09-09T19:53:04.307596",
     "status": "completed"
    },
    "tags": []
   },
   "outputs": [
    {
     "data": {
      "text/plain": [
       "0.9495509772847333"
      ]
     },
     "execution_count": 45,
     "metadata": {},
     "output_type": "execute_result"
    }
   ],
   "source": [
    "y_train_pred=model.predict(X_train)\n",
    "train_accuracy=accuracy_score(Y_train, y_train_pred)\n",
    "train_accuracy"
   ]
  },
  {
   "cell_type": "code",
   "execution_count": 46,
   "id": "92db70b1",
   "metadata": {
    "execution": {
     "iopub.execute_input": "2022-09-09T19:53:04.386007Z",
     "iopub.status.busy": "2022-09-09T19:53:04.385330Z",
     "iopub.status.idle": "2022-09-09T19:53:04.399103Z",
     "shell.execute_reply": "2022-09-09T19:53:04.398131Z"
    },
    "papermill": {
     "duration": 0.032703,
     "end_time": "2022-09-09T19:53:04.401250",
     "exception": false,
     "start_time": "2022-09-09T19:53:04.368547",
     "status": "completed"
    },
    "tags": []
   },
   "outputs": [
    {
     "data": {
      "text/plain": [
       "0.9345300950369588"
      ]
     },
     "execution_count": 46,
     "metadata": {},
     "output_type": "execute_result"
    }
   ],
   "source": [
    "y_test_pred=model.predict(X_test)\n",
    "test_accuracy=accuracy_score(Y_test, y_test_pred)\n",
    "test_accuracy"
   ]
  }
 ],
 "metadata": {
  "kernelspec": {
   "display_name": "Python 3",
   "language": "python",
   "name": "python3"
  },
  "language_info": {
   "codemirror_mode": {
    "name": "ipython",
    "version": 3
   },
   "file_extension": ".py",
   "mimetype": "text/x-python",
   "name": "python",
   "nbconvert_exporter": "python",
   "pygments_lexer": "ipython3",
   "version": "3.7.12"
  },
  "papermill": {
   "default_parameters": {},
   "duration": 35.331616,
   "end_time": "2022-09-09T19:53:05.237999",
   "environment_variables": {},
   "exception": null,
   "input_path": "__notebook__.ipynb",
   "output_path": "__notebook__.ipynb",
   "parameters": {},
   "start_time": "2022-09-09T19:52:29.906383",
   "version": "2.3.4"
  }
 },
 "nbformat": 4,
 "nbformat_minor": 5
}
